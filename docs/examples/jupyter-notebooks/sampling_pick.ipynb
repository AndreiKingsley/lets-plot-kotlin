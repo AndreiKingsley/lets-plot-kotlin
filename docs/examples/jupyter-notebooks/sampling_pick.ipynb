{
 "cells": [
  {
   "cell_type": "markdown",
   "metadata": {},
   "source": [
    "### Pick Sampling"
   ]
  },
  {
   "cell_type": "code",
   "execution_count": 1,
   "metadata": {},
   "outputs": [
    {
     "data": {
      "text/html": [
       "   <div id=\"V4Wacv\"></div>\n",
       "   <script type=\"text/javascript\" data-lets-plot-script=\"library\">\n",
       "       if(!window.letsPlotCallQueue) {\n",
       "           window.letsPlotCallQueue = [];\n",
       "       }; \n",
       "       window.letsPlotCall = function(f) {\n",
       "           window.letsPlotCallQueue.push(f);\n",
       "       };\n",
       "       (function() {\n",
       "           var script = document.createElement(\"script\");\n",
       "           script.type = \"text/javascript\";\n",
       "           script.src = \"https://cdn.jsdelivr.net/gh/JetBrains/lets-plot@v4.2.0/js-package/distr/lets-plot.min.js\";\n",
       "           script.onload = function() {\n",
       "               window.letsPlotCall = function(f) {f();};\n",
       "               window.letsPlotCallQueue.forEach(function(f) {f();});\n",
       "               window.letsPlotCallQueue = [];\n",
       "               \n",
       "               \n",
       "           };\n",
       "           script.onerror = function(event) {\n",
       "               window.letsPlotCall = function(f) {};\n",
       "               window.letsPlotCallQueue = [];\n",
       "               var div = document.createElement(\"div\");\n",
       "               div.style.color = 'darkred';\n",
       "               div.textContent = 'Error loading Lets-Plot JS';\n",
       "               document.getElementById(\"V4Wacv\").appendChild(div);\n",
       "           };\n",
       "           var e = document.getElementById(\"V4Wacv\");\n",
       "           e.appendChild(script);\n",
       "       })();\n",
       "   </script>"
      ]
     },
     "metadata": {},
     "output_type": "display_data"
    }
   ],
   "source": [
    "%useLatestDescriptors\n",
    "%use lets-plot"
   ]
  },
  {
   "cell_type": "code",
   "execution_count": 2,
   "metadata": {},
   "outputs": [],
   "source": [
    "fun genWord(length:Int):String {\n",
    "    val letters = ('a'..'z')\n",
    "    return List(length) { letters.random() }.joinToString(\"\")\n",
    "}    \n",
    "\n",
    "fun genWordSet(n:Int):Set<String> {\n",
    "    val words = HashSet<String>()\n",
    "    while(words.size < n) {\n",
    "        words.add(genWord(5))\n",
    "    }\n",
    "    return words\n",
    "}\n",
    "\n",
    "fun data(n:Int, words:Set<String>):Map<String, *> {\n",
    "    return mapOf(\n",
    "        \"word\" to List(n) { words.random() },\n",
    "        \"g\" to List(n) { listOf('a','b','c').random() }\n",
    "    )\n",
    "}"
   ]
  },
  {
   "cell_type": "code",
   "execution_count": 3,
   "metadata": {},
   "outputs": [],
   "source": [
    "// Number of unique words exceeds threshold (50) of default 'pick' sampling on bar chart.\n",
    "val words = genWordSet(500)\n",
    "val dat = data(1000, words)\n",
    "val p = ggplot(dat) { x = \"word\" }"
   ]
  },
  {
   "cell_type": "code",
   "execution_count": 4,
   "metadata": {},
   "outputs": [
    {
     "data": {
      "text/html": [
       "   <div id=\"Vp1lXe\"></div>\n",
       "   <script type=\"text/javascript\" data-lets-plot-script=\"plot\">\n",
       "       (function() {\n",
       "           var plotSpec={\n",
       "\"mapping\":{\n",
       "\"x\":\"word\"\n",
       "},\n",
       "\"data\":{\n",
       "},\n",
       "\"kind\":\"plot\",\n",
       "\"scales\":[],\n",
       "\"layers\":[{\n",
       "\"mapping\":{\n",
       "},\n",
       "\"stat\":\"count\",\n",
       "\"size\":0.0,\n",
       "\"sampling\":\"none\",\n",
       "\"position\":\"stack\",\n",
       "\"geom\":\"bar\",\n",
       "\"data\":{\n",
       "\"..count..\":[2.0,3.0,3.0,4.0,1.0,1.0,4.0,2.0,2.0,2.0,3.0,1.0,4.0,4.0,2.0,3.0,1.0,2.0,6.0,4.0,4.0,5.0,2.0,1.0,2.0,3.0,1.0,3.0,7.0,5.0,2.0,4.0,4.0,4.0,4.0,1.0,2.0,2.0,3.0,7.0,2.0,1.0,5.0,6.0,4.0,5.0,3.0,3.0,1.0,5.0,2.0,3.0,2.0,2.0,4.0,3.0,2.0,2.0,1.0,5.0,2.0,1.0,2.0,5.0,2.0,2.0,4.0,2.0,2.0,3.0,1.0,3.0,4.0,3.0,2.0,3.0,1.0,2.0,3.0,3.0,6.0,3.0,3.0,1.0,1.0,3.0,3.0,6.0,1.0,2.0,3.0,6.0,4.0,5.0,6.0,2.0,2.0,1.0,3.0,5.0,2.0,4.0,2.0,3.0,2.0,3.0,2.0,2.0,3.0,4.0,2.0,1.0,4.0,2.0,2.0,1.0,2.0,2.0,4.0,1.0,4.0,2.0,3.0,1.0,3.0,2.0,4.0,3.0,2.0,3.0,3.0,5.0,3.0,3.0,1.0,3.0,3.0,2.0,3.0,3.0,4.0,1.0,1.0,2.0,3.0,5.0,2.0,2.0,2.0,4.0,2.0,2.0,3.0,4.0,2.0,2.0,2.0,3.0,1.0,3.0,6.0,5.0,2.0,1.0,3.0,4.0,6.0,3.0,5.0,2.0,2.0,1.0,3.0,4.0,3.0,1.0,3.0,1.0,2.0,1.0,3.0,4.0,2.0,3.0,1.0,2.0,3.0,2.0,2.0,2.0,4.0,3.0,3.0,3.0,2.0,2.0,1.0,2.0,4.0,1.0,4.0,2.0,2.0,1.0,1.0,3.0,1.0,3.0,3.0,4.0,2.0,4.0,2.0,2.0,2.0,2.0,1.0,3.0,2.0,4.0,3.0,2.0,2.0,2.0,1.0,2.0,1.0,1.0,1.0,4.0,3.0,1.0,3.0,1.0,3.0,2.0,1.0,3.0,1.0,2.0,1.0,3.0,4.0,4.0,2.0,2.0,1.0,1.0,2.0,3.0,2.0,3.0,3.0,3.0,5.0,2.0,4.0,1.0,2.0,2.0,2.0,3.0,2.0,1.0,3.0,2.0,2.0,4.0,3.0,1.0,1.0,1.0,1.0,3.0,1.0,1.0,2.0,1.0,1.0,2.0,2.0,3.0,2.0,4.0,6.0,7.0,2.0,2.0,3.0,2.0,1.0,2.0,1.0,1.0,1.0,3.0,1.0,3.0,2.0,2.0,1.0,1.0,4.0,3.0,3.0,2.0,3.0,1.0,3.0,2.0,2.0,1.0,3.0,3.0,2.0,2.0,2.0,2.0,2.0,1.0,2.0,2.0,2.0,1.0,1.0,2.0,1.0,1.0,3.0,1.0,4.0,2.0,1.0,1.0,2.0,2.0,2.0,2.0,1.0,1.0,1.0,1.0,2.0,1.0,1.0,1.0,1.0,2.0,2.0,2.0,3.0,1.0,2.0,1.0,3.0,1.0,3.0,1.0,2.0,1.0,3.0,1.0,3.0,2.0,2.0,1.0,2.0,2.0,2.0,2.0,2.0,2.0,1.0,1.0,2.0,1.0,2.0,1.0,2.0,3.0,2.0,1.0,2.0,1.0,2.0,1.0,1.0,2.0,1.0,2.0,2.0,2.0,1.0,2.0,1.0,3.0,1.0,1.0,2.0,2.0,2.0,1.0,3.0,1.0,2.0,1.0,1.0,1.0,2.0,1.0,1.0,1.0,2.0,1.0,1.0,1.0,2.0,1.0,1.0,1.0,1.0,1.0,1.0,1.0,1.0,1.0,1.0,1.0,1.0,1.0,1.0,1.0,1.0],\n",
       "\"word\":[\"tjbas\",\"zahyq\",\"wonvt\",\"xfcvn\",\"asupt\",\"xvqbj\",\"zbykt\",\"cnprh\",\"loimw\",\"moiqg\",\"ovrej\",\"nfpjv\",\"kxevi\",\"zxksy\",\"gtrgl\",\"wtdsl\",\"soirn\",\"jaewo\",\"prjxd\",\"wdqvm\",\"qplsr\",\"gdxak\",\"kihqo\",\"upvtq\",\"pkwrs\",\"uknnm\",\"ougyx\",\"mjccm\",\"rkdot\",\"wosja\",\"cluvh\",\"nzags\",\"rqxfe\",\"ygeiq\",\"ybnnv\",\"ekxca\",\"hnwkg\",\"uebog\",\"lasha\",\"avwsf\",\"jtrls\",\"ddqdb\",\"bblxb\",\"mkpxp\",\"sjaxm\",\"enkfn\",\"kffsc\",\"mpfgb\",\"vyhac\",\"swfnk\",\"vrxvg\",\"mtgou\",\"gtyek\",\"eonka\",\"idtvn\",\"ttzqo\",\"dyrcn\",\"zskuv\",\"pxkav\",\"rnswp\",\"teryn\",\"kltlp\",\"gkyqy\",\"yavjl\",\"scbrh\",\"jueus\",\"sxtwt\",\"letya\",\"kwfaw\",\"jticp\",\"arijt\",\"iwewq\",\"vengj\",\"bnpxn\",\"ltlkp\",\"xwaqh\",\"vzxpj\",\"fzxbt\",\"tdqde\",\"gkuhv\",\"xnlyb\",\"zzwxu\",\"ldhzh\",\"sbntp\",\"nyukr\",\"fmplz\",\"ptsrl\",\"qksek\",\"kblly\",\"qkwtt\",\"shixw\",\"grnie\",\"rsvtr\",\"jrxqk\",\"iooko\",\"idmfe\",\"puotb\",\"jiztn\",\"szpyw\",\"urbsp\",\"dvlwv\",\"mmifz\",\"ipamt\",\"prszl\",\"tviek\",\"fwkug\",\"eigrc\",\"krttk\",\"sfruh\",\"tyxln\",\"tkegp\",\"iisuc\",\"xkyhs\",\"frcms\",\"umapz\",\"zlkal\",\"hkwbx\",\"gcyus\",\"tieno\",\"eaxfc\",\"lvfjz\",\"ausom\",\"nuwdm\",\"hwqpd\",\"jtmup\",\"kqcvg\",\"yvmbu\",\"sqsif\",\"kysas\",\"dnuke\",\"fidgr\",\"osykz\",\"ckxmd\",\"zfegi\",\"edanq\",\"xwmff\",\"xtgjd\",\"mxorn\",\"rkbqe\",\"iqnvz\",\"evdsn\",\"dvvrv\",\"ferok\",\"kjvqz\",\"ugcdi\",\"zdysh\",\"kgahp\",\"bikau\",\"lzrsl\",\"zpcae\",\"uumid\",\"tshvj\",\"areyg\",\"berhf\",\"qyobn\",\"jzljl\",\"equpw\",\"gdtwa\",\"rfgks\",\"fkixt\",\"ccxhs\",\"gkqhi\",\"gtdha\",\"uhbta\",\"myjjb\",\"cgdhb\",\"bcfpt\",\"fnxwe\",\"baywo\",\"zhqmp\",\"xqgrh\",\"kdpyw\",\"ismqs\",\"wvvgr\",\"gwkem\",\"tghej\",\"rhbjt\",\"flral\",\"vtpus\",\"qtocb\",\"exacm\",\"bnfwv\",\"dnhuj\",\"hlghs\",\"mnemj\",\"slaax\",\"qzabm\",\"lubdg\",\"dyazi\",\"eudfz\",\"plwml\",\"wckzr\",\"daria\",\"eaprk\",\"attwl\",\"dhdbq\",\"iwxcy\",\"mxzuu\",\"qesrz\",\"gxsjf\",\"kezpt\",\"bfuid\",\"napsn\",\"drjzg\",\"ydqjc\",\"vhhxs\",\"sqoak\",\"appwl\",\"hvtkq\",\"vhife\",\"ihbps\",\"tverp\",\"azcbh\",\"htncb\",\"lolyn\",\"jkvfg\",\"lqrtg\",\"czsgr\",\"cpirl\",\"eafnv\",\"iujgr\",\"skxjv\",\"imtsr\",\"gozjo\",\"ibeus\",\"dttvf\",\"zogch\",\"wqzyf\",\"lmxrr\",\"eqzcj\",\"jdmbw\",\"spcfw\",\"lvybk\",\"tccxg\",\"jsvti\",\"xpstv\",\"uthlc\",\"vhwaa\",\"zqins\",\"mwwcj\",\"vmpav\",\"hmuxc\",\"nrdhu\",\"gzziv\",\"emgta\",\"scxzh\",\"ehjfd\",\"vpbzj\",\"xqnec\",\"pmlfr\",\"vswuw\",\"tdtpi\",\"wrdsh\",\"tqzye\",\"vljpj\",\"qacco\",\"csojk\",\"tclnd\",\"eadkn\",\"dbzfb\",\"gxrvc\",\"qeikz\",\"eohcl\",\"tubgh\",\"zzvqn\",\"oqioz\",\"skvxw\",\"eecbn\",\"siico\",\"oloqs\",\"izqyl\",\"hbzpt\",\"jqhxm\",\"sabsb\",\"bvusk\",\"xeqch\",\"poxxm\",\"yybvo\",\"lopnq\",\"ewzmc\",\"jtedj\",\"gsnoa\",\"kpnxq\",\"tezed\",\"rtxpd\",\"dutwq\",\"tnbuj\",\"xtbzt\",\"hovzm\",\"cpfwp\",\"zwjut\",\"ksnpj\",\"wbqma\",\"eyzrg\",\"rtotr\",\"naqxe\",\"zgebv\",\"lamll\",\"pvjko\",\"kjpnx\",\"dlzey\",\"absts\",\"ubffo\",\"vjciy\",\"npojx\",\"auxki\",\"pjosg\",\"qzhdu\",\"bwajm\",\"gernb\",\"skjqk\",\"srnal\",\"qfrmv\",\"yrdtb\",\"vxrnm\",\"cnmwb\",\"vddoq\",\"vubeh\",\"uknjr\",\"playc\",\"zwspo\",\"icsja\",\"wmbhh\",\"cqbao\",\"rpdcp\",\"aacds\",\"nftdf\",\"kvgrz\",\"hirbh\",\"sormd\",\"xhbhk\",\"pdsib\",\"yjnae\",\"ezkot\",\"ggbds\",\"ibdfd\",\"bgbzx\",\"scmcf\",\"nbsic\",\"qmjou\",\"tceid\",\"fbidz\",\"dagus\",\"jgcec\",\"atpac\",\"zfjsi\",\"thobi\",\"oxebv\",\"nzeah\",\"dlmpg\",\"tctfn\",\"tlxyx\",\"takfl\",\"cgrct\",\"ozgiz\",\"bouqw\",\"yqmvx\",\"paktj\",\"qmyor\",\"kpafl\",\"soyku\",\"zxzxz\",\"ypced\",\"eeupa\",\"kmwhu\",\"auyqy\",\"uyskj\",\"kllrd\",\"bgxdq\",\"kwzei\",\"zdlwm\",\"xakws\",\"mjosb\",\"eqspt\",\"tzbel\",\"fmjzp\",\"fienc\",\"daehx\",\"tyutr\",\"xbvvp\",\"jhwlx\",\"eojcc\",\"chbxe\",\"swxqi\",\"sfhac\",\"zjhaq\",\"xpdwl\",\"msiio\",\"uivdj\",\"ksrzq\",\"sqows\",\"ijzqn\",\"hqmwj\",\"aepuf\",\"rfojo\",\"vxhlu\",\"ziwdv\",\"nyszo\",\"cbqbw\",\"riphx\",\"exmdw\",\"pqvqg\",\"ocvxl\",\"iwzfp\",\"mtzlm\",\"rkkvc\",\"bsauc\",\"nmzms\",\"fyejs\",\"dzslj\",\"njhst\",\"ffjva\",\"iabqy\",\"cxemn\",\"dxzik\",\"ifiqj\",\"apmsp\",\"jlqti\",\"davsj\",\"gxkad\",\"ozeqz\",\"weotn\",\"fydom\",\"mmpbp\",\"mafme\",\"vhfgn\",\"zqmgk\",\"ckpvl\",\"jlony\",\"sfvar\",\"dpjds\",\"ctcjs\",\"dgfev\"]\n",
       "}\n",
       "}]\n",
       "};\n",
       "           var plotContainer = document.getElementById(\"Vp1lXe\");\n",
       "           window.letsPlotCall(function() {{\n",
       "               LetsPlot.buildPlotFromProcessedSpecs(plotSpec, -1, -1, plotContainer);\n",
       "           }});\n",
       "       })();    \n",
       "   </script>"
      ]
     },
     "execution_count": 4,
     "metadata": {},
     "output_type": "execute_result"
    }
   ],
   "source": [
    "// Disable sampling to see the overplotting.\n",
    "p + geomBar(sampling = samplingNone, size = 0)"
   ]
  },
  {
   "cell_type": "code",
   "execution_count": 5,
   "metadata": {},
   "outputs": [
    {
     "data": {
      "text/html": [
       "   <div id=\"oj0ChW\"></div>\n",
       "   <script type=\"text/javascript\" data-lets-plot-script=\"plot\">\n",
       "       (function() {\n",
       "           var plotSpec={\n",
       "\"mapping\":{\n",
       "\"x\":\"word\"\n",
       "},\n",
       "\"data\":{\n",
       "},\n",
       "\"kind\":\"plot\",\n",
       "\"scales\":[],\n",
       "\"layers\":[{\n",
       "\"mapping\":{\n",
       "},\n",
       "\"stat\":\"count\",\n",
       "\"size\":0.0,\n",
       "\"position\":\"stack\",\n",
       "\"geom\":\"bar\",\n",
       "\"data\":{\n",
       "\"..count..\":[2.0,3.0,3.0,4.0,1.0,1.0,4.0,2.0,2.0,2.0,3.0,1.0,4.0,4.0,2.0,3.0,1.0,2.0,6.0,4.0,4.0,5.0,2.0,1.0,2.0,3.0,1.0,3.0,7.0,5.0,2.0,4.0,4.0,4.0,4.0,1.0,2.0,2.0,3.0,7.0,2.0,1.0,5.0,6.0,4.0,5.0,3.0,3.0,1.0,5.0,2.0,3.0,2.0,2.0,4.0,3.0,2.0,2.0,1.0,5.0,2.0,1.0,2.0,5.0,2.0,2.0,4.0,2.0,2.0,3.0,1.0,3.0,4.0,3.0,2.0,3.0,1.0,2.0,3.0,3.0,6.0,3.0,3.0,1.0,1.0,3.0,3.0,6.0,1.0,2.0,3.0,6.0,4.0,5.0,6.0,2.0,2.0,1.0,3.0,5.0,2.0,4.0,2.0,3.0,2.0,3.0,2.0,2.0,3.0,4.0,2.0,1.0,4.0,2.0,2.0,1.0,2.0,2.0,4.0,1.0,4.0,2.0,3.0,1.0,3.0,2.0,4.0,3.0,2.0,3.0,3.0,5.0,3.0,3.0,1.0,3.0,3.0,2.0,3.0,3.0,4.0,1.0,1.0,2.0,3.0,5.0,2.0,2.0,2.0,4.0,2.0,2.0,3.0,4.0,2.0,2.0,2.0,3.0,1.0,3.0,6.0,5.0,2.0,1.0,3.0,4.0,6.0,3.0,5.0,2.0,2.0,1.0,3.0,4.0,3.0,1.0,3.0,1.0,2.0,1.0,3.0,4.0,2.0,3.0,1.0,2.0,3.0,2.0,2.0,2.0,4.0,3.0,3.0,3.0,2.0,2.0,1.0,2.0,4.0,1.0,4.0,2.0,2.0,1.0,1.0,3.0,1.0,3.0,3.0,4.0,2.0,4.0,2.0,2.0,2.0,2.0,1.0,3.0,2.0,4.0,3.0,2.0,2.0,2.0,1.0,2.0,1.0,1.0,1.0,4.0,3.0,1.0,3.0,1.0,3.0,2.0,1.0,3.0,1.0,2.0,1.0,3.0,4.0,4.0,2.0,2.0,1.0,1.0,2.0,3.0,2.0,3.0,3.0,3.0,5.0,2.0,4.0,1.0,2.0,2.0,2.0,3.0,2.0,1.0,3.0,2.0,2.0,4.0,3.0,1.0,1.0,1.0,1.0,3.0,1.0,1.0,2.0,1.0,1.0,2.0,2.0,3.0,2.0,4.0,6.0,7.0,2.0,2.0,3.0,2.0,1.0,2.0,1.0,1.0,1.0,3.0,1.0,3.0,2.0,2.0,1.0,1.0,4.0,3.0,3.0,2.0,3.0,1.0,3.0,2.0,2.0,1.0,3.0,3.0,2.0,2.0,2.0,2.0,2.0,1.0,2.0,2.0,2.0,1.0,1.0,2.0,1.0,1.0,3.0,1.0,4.0,2.0,1.0,1.0,2.0,2.0,2.0,2.0,1.0,1.0,1.0,1.0,2.0,1.0,1.0,1.0,1.0,2.0,2.0,2.0,3.0,1.0,2.0,1.0,3.0,1.0,3.0,1.0,2.0,1.0,3.0,1.0,3.0,2.0,2.0,1.0,2.0,2.0,2.0,2.0,2.0,2.0,1.0,1.0,2.0,1.0,2.0,1.0,2.0,3.0,2.0,1.0,2.0,1.0,2.0,1.0,1.0,2.0,1.0,2.0,2.0,2.0,1.0,2.0,1.0,3.0,1.0,1.0,2.0,2.0,2.0,1.0,3.0,1.0,2.0,1.0,1.0,1.0,2.0,1.0,1.0,1.0,2.0,1.0,1.0,1.0,2.0,1.0,1.0,1.0,1.0,1.0,1.0,1.0,1.0,1.0,1.0,1.0,1.0,1.0,1.0,1.0,1.0],\n",
       "\"word\":[\"tjbas\",\"zahyq\",\"wonvt\",\"xfcvn\",\"asupt\",\"xvqbj\",\"zbykt\",\"cnprh\",\"loimw\",\"moiqg\",\"ovrej\",\"nfpjv\",\"kxevi\",\"zxksy\",\"gtrgl\",\"wtdsl\",\"soirn\",\"jaewo\",\"prjxd\",\"wdqvm\",\"qplsr\",\"gdxak\",\"kihqo\",\"upvtq\",\"pkwrs\",\"uknnm\",\"ougyx\",\"mjccm\",\"rkdot\",\"wosja\",\"cluvh\",\"nzags\",\"rqxfe\",\"ygeiq\",\"ybnnv\",\"ekxca\",\"hnwkg\",\"uebog\",\"lasha\",\"avwsf\",\"jtrls\",\"ddqdb\",\"bblxb\",\"mkpxp\",\"sjaxm\",\"enkfn\",\"kffsc\",\"mpfgb\",\"vyhac\",\"swfnk\",\"vrxvg\",\"mtgou\",\"gtyek\",\"eonka\",\"idtvn\",\"ttzqo\",\"dyrcn\",\"zskuv\",\"pxkav\",\"rnswp\",\"teryn\",\"kltlp\",\"gkyqy\",\"yavjl\",\"scbrh\",\"jueus\",\"sxtwt\",\"letya\",\"kwfaw\",\"jticp\",\"arijt\",\"iwewq\",\"vengj\",\"bnpxn\",\"ltlkp\",\"xwaqh\",\"vzxpj\",\"fzxbt\",\"tdqde\",\"gkuhv\",\"xnlyb\",\"zzwxu\",\"ldhzh\",\"sbntp\",\"nyukr\",\"fmplz\",\"ptsrl\",\"qksek\",\"kblly\",\"qkwtt\",\"shixw\",\"grnie\",\"rsvtr\",\"jrxqk\",\"iooko\",\"idmfe\",\"puotb\",\"jiztn\",\"szpyw\",\"urbsp\",\"dvlwv\",\"mmifz\",\"ipamt\",\"prszl\",\"tviek\",\"fwkug\",\"eigrc\",\"krttk\",\"sfruh\",\"tyxln\",\"tkegp\",\"iisuc\",\"xkyhs\",\"frcms\",\"umapz\",\"zlkal\",\"hkwbx\",\"gcyus\",\"tieno\",\"eaxfc\",\"lvfjz\",\"ausom\",\"nuwdm\",\"hwqpd\",\"jtmup\",\"kqcvg\",\"yvmbu\",\"sqsif\",\"kysas\",\"dnuke\",\"fidgr\",\"osykz\",\"ckxmd\",\"zfegi\",\"edanq\",\"xwmff\",\"xtgjd\",\"mxorn\",\"rkbqe\",\"iqnvz\",\"evdsn\",\"dvvrv\",\"ferok\",\"kjvqz\",\"ugcdi\",\"zdysh\",\"kgahp\",\"bikau\",\"lzrsl\",\"zpcae\",\"uumid\",\"tshvj\",\"areyg\",\"berhf\",\"qyobn\",\"jzljl\",\"equpw\",\"gdtwa\",\"rfgks\",\"fkixt\",\"ccxhs\",\"gkqhi\",\"gtdha\",\"uhbta\",\"myjjb\",\"cgdhb\",\"bcfpt\",\"fnxwe\",\"baywo\",\"zhqmp\",\"xqgrh\",\"kdpyw\",\"ismqs\",\"wvvgr\",\"gwkem\",\"tghej\",\"rhbjt\",\"flral\",\"vtpus\",\"qtocb\",\"exacm\",\"bnfwv\",\"dnhuj\",\"hlghs\",\"mnemj\",\"slaax\",\"qzabm\",\"lubdg\",\"dyazi\",\"eudfz\",\"plwml\",\"wckzr\",\"daria\",\"eaprk\",\"attwl\",\"dhdbq\",\"iwxcy\",\"mxzuu\",\"qesrz\",\"gxsjf\",\"kezpt\",\"bfuid\",\"napsn\",\"drjzg\",\"ydqjc\",\"vhhxs\",\"sqoak\",\"appwl\",\"hvtkq\",\"vhife\",\"ihbps\",\"tverp\",\"azcbh\",\"htncb\",\"lolyn\",\"jkvfg\",\"lqrtg\",\"czsgr\",\"cpirl\",\"eafnv\",\"iujgr\",\"skxjv\",\"imtsr\",\"gozjo\",\"ibeus\",\"dttvf\",\"zogch\",\"wqzyf\",\"lmxrr\",\"eqzcj\",\"jdmbw\",\"spcfw\",\"lvybk\",\"tccxg\",\"jsvti\",\"xpstv\",\"uthlc\",\"vhwaa\",\"zqins\",\"mwwcj\",\"vmpav\",\"hmuxc\",\"nrdhu\",\"gzziv\",\"emgta\",\"scxzh\",\"ehjfd\",\"vpbzj\",\"xqnec\",\"pmlfr\",\"vswuw\",\"tdtpi\",\"wrdsh\",\"tqzye\",\"vljpj\",\"qacco\",\"csojk\",\"tclnd\",\"eadkn\",\"dbzfb\",\"gxrvc\",\"qeikz\",\"eohcl\",\"tubgh\",\"zzvqn\",\"oqioz\",\"skvxw\",\"eecbn\",\"siico\",\"oloqs\",\"izqyl\",\"hbzpt\",\"jqhxm\",\"sabsb\",\"bvusk\",\"xeqch\",\"poxxm\",\"yybvo\",\"lopnq\",\"ewzmc\",\"jtedj\",\"gsnoa\",\"kpnxq\",\"tezed\",\"rtxpd\",\"dutwq\",\"tnbuj\",\"xtbzt\",\"hovzm\",\"cpfwp\",\"zwjut\",\"ksnpj\",\"wbqma\",\"eyzrg\",\"rtotr\",\"naqxe\",\"zgebv\",\"lamll\",\"pvjko\",\"kjpnx\",\"dlzey\",\"absts\",\"ubffo\",\"vjciy\",\"npojx\",\"auxki\",\"pjosg\",\"qzhdu\",\"bwajm\",\"gernb\",\"skjqk\",\"srnal\",\"qfrmv\",\"yrdtb\",\"vxrnm\",\"cnmwb\",\"vddoq\",\"vubeh\",\"uknjr\",\"playc\",\"zwspo\",\"icsja\",\"wmbhh\",\"cqbao\",\"rpdcp\",\"aacds\",\"nftdf\",\"kvgrz\",\"hirbh\",\"sormd\",\"xhbhk\",\"pdsib\",\"yjnae\",\"ezkot\",\"ggbds\",\"ibdfd\",\"bgbzx\",\"scmcf\",\"nbsic\",\"qmjou\",\"tceid\",\"fbidz\",\"dagus\",\"jgcec\",\"atpac\",\"zfjsi\",\"thobi\",\"oxebv\",\"nzeah\",\"dlmpg\",\"tctfn\",\"tlxyx\",\"takfl\",\"cgrct\",\"ozgiz\",\"bouqw\",\"yqmvx\",\"paktj\",\"qmyor\",\"kpafl\",\"soyku\",\"zxzxz\",\"ypced\",\"eeupa\",\"kmwhu\",\"auyqy\",\"uyskj\",\"kllrd\",\"bgxdq\",\"kwzei\",\"zdlwm\",\"xakws\",\"mjosb\",\"eqspt\",\"tzbel\",\"fmjzp\",\"fienc\",\"daehx\",\"tyutr\",\"xbvvp\",\"jhwlx\",\"eojcc\",\"chbxe\",\"swxqi\",\"sfhac\",\"zjhaq\",\"xpdwl\",\"msiio\",\"uivdj\",\"ksrzq\",\"sqows\",\"ijzqn\",\"hqmwj\",\"aepuf\",\"rfojo\",\"vxhlu\",\"ziwdv\",\"nyszo\",\"cbqbw\",\"riphx\",\"exmdw\",\"pqvqg\",\"ocvxl\",\"iwzfp\",\"mtzlm\",\"rkkvc\",\"bsauc\",\"nmzms\",\"fyejs\",\"dzslj\",\"njhst\",\"ffjva\",\"iabqy\",\"cxemn\",\"dxzik\",\"ifiqj\",\"apmsp\",\"jlqti\",\"davsj\",\"gxkad\",\"ozeqz\",\"weotn\",\"fydom\",\"mmpbp\",\"mafme\",\"vhfgn\",\"zqmgk\",\"ckpvl\",\"jlony\",\"sfvar\",\"dpjds\",\"ctcjs\",\"dgfev\"]\n",
       "}\n",
       "}]\n",
       "};\n",
       "           var plotContainer = document.getElementById(\"oj0ChW\");\n",
       "           window.letsPlotCall(function() {{\n",
       "               LetsPlot.buildPlotFromProcessedSpecs(plotSpec, -1, -1, plotContainer);\n",
       "           }});\n",
       "       })();    \n",
       "   </script>"
      ]
     },
     "execution_count": 5,
     "metadata": {},
     "output_type": "execute_result"
    }
   ],
   "source": [
    "// Draw plot with default sampling.\n",
    "p + geomBar(size = 0)"
   ]
  },
  {
   "cell_type": "code",
   "execution_count": 6,
   "metadata": {},
   "outputs": [
    {
     "data": {
      "text/html": [
       "   <div id=\"KkjmjV\"></div>\n",
       "   <script type=\"text/javascript\" data-lets-plot-script=\"plot\">\n",
       "       (function() {\n",
       "           var plotSpec={\n",
       "\"mapping\":{\n",
       "\"x\":\"word\"\n",
       "},\n",
       "\"data\":{\n",
       "},\n",
       "\"kind\":\"plot\",\n",
       "\"scales\":[],\n",
       "\"layers\":[{\n",
       "\"mapping\":{\n",
       "\"fill\":\"g\"\n",
       "},\n",
       "\"stat\":\"count\",\n",
       "\"size\":0.0,\n",
       "\"position\":\"stack\",\n",
       "\"geom\":\"bar\",\n",
       "\"data\":{\n",
       "\"..count..\":[1.0,2.0,1.0,1.0,2.0,1.0,2.0,1.0,2.0,1.0,2.0,1.0,2.0,1.0,1.0,1.0,1.0,1.0,1.0,2.0,1.0,1.0,2.0,4.0,2.0,2.0,2.0,2.0,1.0,1.0,1.0,1.0,1.0,4.0,2.0,1.0,1.0,1.0,2.0,3.0,1.0,1.0,1.0,1.0,3.0,2.0,1.0,1.0,1.0,3.0,1.0,1.0,2.0,3.0,1.0,1.0,1.0,1.0,2.0,3.0,1.0,2.0,1.0,1.0,2.0,1.0,1.0,1.0,1.0,2.0,2.0,1.0,2.0,1.0,3.0,2.0,1.0,1.0,1.0,1.0,3.0,1.0,1.0,2.0,2.0,1.0,1.0,1.0,1.0,1.0,2.0,1.0,3.0,1.0,1.0,2.0,2.0,1.0,2.0,2.0,2.0,2.0,2.0,1.0,2.0,1.0,1.0,1.0,1.0,1.0,2.0,1.0,2.0,1.0,2.0,1.0,4.0,1.0,1.0,1.0,2.0,1.0,1.0,1.0,1.0,2.0,1.0,1.0,1.0,1.0,2.0,1.0,1.0,3.0,1.0,1.0,1.0,1.0,1.0,1.0,3.0,2.0,2.0,2.0,1.0,1.0,3.0,2.0,1.0,1.0,1.0,3.0,1.0,2.0,2.0,1.0,1.0,2.0,1.0,1.0,2.0,1.0,2.0,1.0,1.0,1.0,1.0,1.0,1.0,1.0,1.0,1.0,1.0,1.0,1.0,1.0,1.0,1.0,2.0,3.0,1.0,1.0,2.0,1.0,1.0,1.0,2.0,1.0,2.0,1.0,1.0,1.0,1.0,2.0,2.0,1.0,1.0,1.0,2.0,1.0,1.0,2.0,1.0,1.0,1.0,1.0,1.0,1.0,1.0,2.0,1.0,1.0,1.0,1.0,1.0,1.0,1.0,1.0,1.0,2.0,1.0,1.0,1.0,1.0,1.0,1.0,1.0,1.0,1.0,1.0,1.0,1.0,1.0,1.0,1.0,1.0,1.0,1.0,1.0,1.0,1.0,1.0,1.0,1.0,1.0,1.0,1.0,1.0,3.0,1.0,1.0,2.0,1.0,1.0,1.0,1.0,4.0,2.0,2.0,3.0,2.0,1.0,1.0,1.0,3.0,2.0,2.0,2.0,1.0,2.0,2.0,2.0,2.0,2.0,1.0,1.0,2.0,2.0,2.0,1.0,3.0,1.0,1.0,2.0,1.0,1.0,1.0,3.0,2.0,2.0,2.0,1.0,1.0,4.0,3.0,2.0,2.0,2.0,2.0,2.0,2.0,1.0,1.0,2.0,1.0,1.0,2.0,2.0,1.0,1.0,3.0,2.0,2.0,1.0,2.0,1.0,2.0,1.0,2.0,1.0,1.0,1.0,2.0,1.0,1.0,1.0,4.0,1.0,2.0,1.0,2.0,2.0,1.0,1.0,1.0,2.0,1.0,2.0,1.0,1.0,1.0,1.0,3.0,1.0,1.0,2.0,1.0,2.0,2.0,1.0,2.0,3.0,1.0,3.0,1.0,1.0,1.0,2.0,2.0,1.0,3.0,1.0,1.0,1.0,1.0,1.0,1.0,1.0,1.0,1.0,1.0,2.0,1.0,1.0,2.0,1.0,1.0,2.0,1.0,2.0,2.0,2.0,3.0,2.0,1.0,2.0,2.0,1.0,1.0,2.0,2.0,1.0,1.0,1.0,1.0,1.0,1.0,1.0,2.0,1.0,1.0,1.0,1.0,1.0,1.0,1.0,1.0,1.0,1.0,1.0,2.0,1.0,1.0,1.0,2.0,1.0,1.0,1.0,1.0,1.0,1.0,1.0,1.0,3.0,1.0,1.0,1.0,2.0,1.0,1.0,1.0,1.0,1.0,1.0,1.0,1.0,1.0,1.0,1.0,1.0,1.0,1.0,1.0,2.0,1.0,1.0,1.0,1.0,1.0,1.0,1.0,1.0,1.0,2.0,2.0,1.0,1.0,1.0,1.0,1.0,1.0,1.0,1.0,1.0,1.0,1.0,1.0,1.0,1.0,1.0,1.0,1.0,1.0,1.0,1.0,1.0,1.0,1.0,1.0,1.0,1.0,1.0,1.0,1.0,1.0,1.0,2.0,2.0,1.0,2.0,1.0,1.0,1.0,4.0,3.0,3.0,1.0,1.0,3.0,1.0,1.0,2.0,1.0,1.0,2.0,2.0,2.0,2.0,2.0,1.0,2.0,2.0,1.0,1.0,2.0,2.0,1.0,2.0,2.0,1.0,2.0,1.0,1.0,1.0,1.0,2.0,2.0,2.0,4.0,2.0,1.0,1.0,1.0,1.0,1.0,2.0,2.0,2.0,1.0,2.0,1.0,2.0,1.0,2.0,3.0,1.0,1.0,2.0,2.0,2.0,1.0,1.0,1.0,1.0,3.0,1.0,1.0,1.0,1.0,2.0,1.0,1.0,1.0,1.0,1.0,1.0,2.0,1.0,1.0,1.0,1.0,1.0,1.0,1.0,1.0,2.0,2.0,2.0,1.0,1.0,2.0,1.0,1.0,1.0,1.0,1.0,1.0,1.0,1.0,1.0,1.0,1.0,1.0,2.0,2.0,1.0,3.0,4.0,1.0,1.0,1.0,1.0,2.0,1.0,1.0,1.0,1.0,1.0,1.0,2.0,1.0,1.0,1.0,1.0,1.0,1.0,2.0,1.0,2.0,1.0,2.0,3.0,2.0,1.0,1.0,2.0,1.0,1.0,1.0,1.0,1.0,2.0,1.0,2.0,2.0,1.0,1.0,2.0,1.0,2.0,1.0,1.0,3.0,3.0,1.0,1.0,1.0,2.0,1.0,3.0,1.0,1.0,1.0,1.0,1.0,1.0,1.0,1.0,1.0,1.0,1.0,1.0,1.0,1.0,1.0,2.0,1.0,2.0,1.0,1.0,1.0,1.0,1.0,1.0,1.0,1.0,1.0,1.0,2.0,1.0,1.0,1.0,1.0,1.0,1.0,1.0,1.0,1.0,1.0,1.0,1.0,2.0,2.0,1.0,1.0,1.0,1.0,1.0,1.0,1.0,1.0,1.0,1.0,1.0,1.0,1.0,1.0,1.0,1.0,1.0,1.0,1.0,1.0,1.0,1.0,3.0,1.0,1.0,1.0,1.0,1.0,1.0],\n",
       "\"g\":[\"b\",\"b\",\"b\",\"b\",\"b\",\"b\",\"b\",\"b\",\"b\",\"b\",\"b\",\"b\",\"b\",\"b\",\"b\",\"b\",\"b\",\"b\",\"b\",\"b\",\"b\",\"b\",\"b\",\"b\",\"b\",\"b\",\"b\",\"b\",\"b\",\"b\",\"b\",\"b\",\"b\",\"b\",\"b\",\"b\",\"b\",\"b\",\"b\",\"b\",\"b\",\"b\",\"b\",\"b\",\"b\",\"b\",\"b\",\"b\",\"b\",\"b\",\"b\",\"b\",\"b\",\"b\",\"b\",\"b\",\"b\",\"b\",\"b\",\"b\",\"b\",\"b\",\"b\",\"b\",\"b\",\"b\",\"b\",\"b\",\"b\",\"b\",\"b\",\"b\",\"b\",\"b\",\"b\",\"b\",\"b\",\"b\",\"b\",\"b\",\"b\",\"b\",\"b\",\"b\",\"b\",\"b\",\"b\",\"b\",\"b\",\"b\",\"b\",\"b\",\"b\",\"b\",\"b\",\"b\",\"b\",\"b\",\"b\",\"b\",\"b\",\"b\",\"b\",\"b\",\"b\",\"b\",\"b\",\"b\",\"b\",\"b\",\"b\",\"b\",\"b\",\"b\",\"b\",\"b\",\"b\",\"b\",\"b\",\"b\",\"b\",\"b\",\"b\",\"b\",\"b\",\"b\",\"b\",\"b\",\"b\",\"b\",\"b\",\"b\",\"b\",\"b\",\"b\",\"b\",\"b\",\"b\",\"b\",\"b\",\"b\",\"b\",\"b\",\"b\",\"b\",\"b\",\"b\",\"b\",\"b\",\"b\",\"b\",\"b\",\"b\",\"b\",\"b\",\"b\",\"b\",\"b\",\"b\",\"b\",\"b\",\"b\",\"b\",\"b\",\"b\",\"b\",\"b\",\"b\",\"b\",\"b\",\"b\",\"b\",\"b\",\"b\",\"b\",\"b\",\"b\",\"b\",\"b\",\"b\",\"b\",\"b\",\"b\",\"b\",\"b\",\"b\",\"b\",\"b\",\"b\",\"b\",\"b\",\"b\",\"b\",\"b\",\"b\",\"b\",\"b\",\"b\",\"b\",\"b\",\"b\",\"b\",\"b\",\"b\",\"b\",\"b\",\"b\",\"b\",\"b\",\"b\",\"b\",\"b\",\"b\",\"b\",\"b\",\"b\",\"b\",\"b\",\"b\",\"b\",\"b\",\"b\",\"b\",\"b\",\"b\",\"b\",\"b\",\"b\",\"b\",\"b\",\"b\",\"b\",\"b\",\"b\",\"b\",\"b\",\"b\",\"b\",\"b\",\"b\",\"b\",\"b\",\"b\",\"b\",\"b\",\"b\",\"b\",\"b\",\"a\",\"a\",\"a\",\"a\",\"a\",\"a\",\"a\",\"a\",\"a\",\"a\",\"a\",\"a\",\"a\",\"a\",\"a\",\"a\",\"a\",\"a\",\"a\",\"a\",\"a\",\"a\",\"a\",\"a\",\"a\",\"a\",\"a\",\"a\",\"a\",\"a\",\"a\",\"a\",\"a\",\"a\",\"a\",\"a\",\"a\",\"a\",\"a\",\"a\",\"a\",\"a\",\"a\",\"a\",\"a\",\"a\",\"a\",\"a\",\"a\",\"a\",\"a\",\"a\",\"a\",\"a\",\"a\",\"a\",\"a\",\"a\",\"a\",\"a\",\"a\",\"a\",\"a\",\"a\",\"a\",\"a\",\"a\",\"a\",\"a\",\"a\",\"a\",\"a\",\"a\",\"a\",\"a\",\"a\",\"a\",\"a\",\"a\",\"a\",\"a\",\"a\",\"a\",\"a\",\"a\",\"a\",\"a\",\"a\",\"a\",\"a\",\"a\",\"a\",\"a\",\"a\",\"a\",\"a\",\"a\",\"a\",\"a\",\"a\",\"a\",\"a\",\"a\",\"a\",\"a\",\"a\",\"a\",\"a\",\"a\",\"a\",\"a\",\"a\",\"a\",\"a\",\"a\",\"a\",\"a\",\"a\",\"a\",\"a\",\"a\",\"a\",\"a\",\"a\",\"a\",\"a\",\"a\",\"a\",\"a\",\"a\",\"a\",\"a\",\"a\",\"a\",\"a\",\"a\",\"a\",\"a\",\"a\",\"a\",\"a\",\"a\",\"a\",\"a\",\"a\",\"a\",\"a\",\"a\",\"a\",\"a\",\"a\",\"a\",\"a\",\"a\",\"a\",\"a\",\"a\",\"a\",\"a\",\"a\",\"a\",\"a\",\"a\",\"a\",\"a\",\"a\",\"a\",\"a\",\"a\",\"a\",\"a\",\"a\",\"a\",\"a\",\"a\",\"a\",\"a\",\"a\",\"a\",\"a\",\"a\",\"a\",\"a\",\"a\",\"a\",\"a\",\"a\",\"a\",\"a\",\"a\",\"a\",\"a\",\"a\",\"a\",\"a\",\"a\",\"a\",\"a\",\"a\",\"a\",\"a\",\"a\",\"a\",\"a\",\"a\",\"a\",\"a\",\"a\",\"a\",\"a\",\"a\",\"a\",\"a\",\"a\",\"a\",\"a\",\"a\",\"a\",\"a\",\"a\",\"a\",\"a\",\"a\",\"a\",\"a\",\"a\",\"a\",\"a\",\"a\",\"a\",\"a\",\"a\",\"a\",\"a\",\"a\",\"a\",\"a\",\"a\",\"c\",\"c\",\"c\",\"c\",\"c\",\"c\",\"c\",\"c\",\"c\",\"c\",\"c\",\"c\",\"c\",\"c\",\"c\",\"c\",\"c\",\"c\",\"c\",\"c\",\"c\",\"c\",\"c\",\"c\",\"c\",\"c\",\"c\",\"c\",\"c\",\"c\",\"c\",\"c\",\"c\",\"c\",\"c\",\"c\",\"c\",\"c\",\"c\",\"c\",\"c\",\"c\",\"c\",\"c\",\"c\",\"c\",\"c\",\"c\",\"c\",\"c\",\"c\",\"c\",\"c\",\"c\",\"c\",\"c\",\"c\",\"c\",\"c\",\"c\",\"c\",\"c\",\"c\",\"c\",\"c\",\"c\",\"c\",\"c\",\"c\",\"c\",\"c\",\"c\",\"c\",\"c\",\"c\",\"c\",\"c\",\"c\",\"c\",\"c\",\"c\",\"c\",\"c\",\"c\",\"c\",\"c\",\"c\",\"c\",\"c\",\"c\",\"c\",\"c\",\"c\",\"c\",\"c\",\"c\",\"c\",\"c\",\"c\",\"c\",\"c\",\"c\",\"c\",\"c\",\"c\",\"c\",\"c\",\"c\",\"c\",\"c\",\"c\",\"c\",\"c\",\"c\",\"c\",\"c\",\"c\",\"c\",\"c\",\"c\",\"c\",\"c\",\"c\",\"c\",\"c\",\"c\",\"c\",\"c\",\"c\",\"c\",\"c\",\"c\",\"c\",\"c\",\"c\",\"c\",\"c\",\"c\",\"c\",\"c\",\"c\",\"c\",\"c\",\"c\",\"c\",\"c\",\"c\",\"c\",\"c\",\"c\",\"c\",\"c\",\"c\",\"c\",\"c\",\"c\",\"c\",\"c\",\"c\",\"c\",\"c\",\"c\",\"c\",\"c\",\"c\",\"c\",\"c\",\"c\",\"c\",\"c\",\"c\",\"c\",\"c\",\"c\",\"c\",\"c\",\"c\",\"c\",\"c\",\"c\",\"c\",\"c\",\"c\",\"c\",\"c\",\"c\",\"c\",\"c\",\"c\",\"c\",\"c\",\"c\",\"c\",\"c\",\"c\",\"c\",\"c\",\"c\",\"c\",\"c\",\"c\",\"c\",\"c\",\"c\",\"c\",\"c\",\"c\",\"c\",\"c\",\"c\",\"c\",\"c\",\"c\",\"c\",\"c\",\"c\",\"c\",\"c\",\"c\",\"c\",\"c\",\"c\",\"c\",\"c\",\"c\",\"c\",\"c\",\"c\",\"c\",\"c\",\"c\",\"c\",\"c\",\"c\",\"c\",\"c\"],\n",
       "\"word\":[\"tjbas\",\"wonvt\",\"xfcvn\",\"cnprh\",\"loimw\",\"moiqg\",\"ovrej\",\"nfpjv\",\"jaewo\",\"prjxd\",\"wdqvm\",\"gdxak\",\"kihqo\",\"pkwrs\",\"mjccm\",\"cluvh\",\"rqxfe\",\"ekxca\",\"hnwkg\",\"ygeiq\",\"eonka\",\"ttzqo\",\"zskuv\",\"rnswp\",\"teryn\",\"yavjl\",\"jueus\",\"sxtwt\",\"kwfaw\",\"iwewq\",\"bnpxn\",\"xwaqh\",\"vzxpj\",\"xnlyb\",\"zzwxu\",\"ldhzh\",\"nyukr\",\"fmplz\",\"rkdot\",\"ptsrl\",\"bblxb\",\"iooko\",\"idmfe\",\"uknnm\",\"urbsp\",\"tviek\",\"fwkug\",\"eigrc\",\"sfruh\",\"tyxln\",\"tkegp\",\"iisuc\",\"hkwbx\",\"tieno\",\"eaxfc\",\"lvfjz\",\"nuwdm\",\"hwqpd\",\"yvmbu\",\"avwsf\",\"kysas\",\"dnuke\",\"fidgr\",\"edanq\",\"xtgjd\",\"mxorn\",\"ferok\",\"jrxqk\",\"uumid\",\"tshvj\",\"areyg\",\"rfgks\",\"bcfpt\",\"kdpyw\",\"qksek\",\"wvvgr\",\"tghej\",\"gkyqy\",\"grnie\",\"qzabm\",\"baywo\",\"dyazi\",\"wckzr\",\"daria\",\"dhdbq\",\"sqsif\",\"iqnvz\",\"bfuid\",\"fkixt\",\"ydqjc\",\"vhife\",\"nzags\",\"tverp\",\"azcbh\",\"htncb\",\"czsgr\",\"eafnv\",\"imtsr\",\"gozjo\",\"dttvf\",\"myjjb\",\"jdmbw\",\"lvybk\",\"zfegi\",\"plwml\",\"uthlc\",\"fzxbt\",\"ihbps\",\"qesrz\",\"mwwcj\",\"nrdhu\",\"ehjfd\",\"xqnec\",\"pmlfr\",\"tdtpi\",\"lolyn\",\"vljpj\",\"tclnd\",\"gxrvc\",\"tubgh\",\"gzziv\",\"eecbn\",\"siico\",\"izqyl\",\"enkfn\",\"rkbqe\",\"bnfwv\",\"xwmff\",\"ewzmc\",\"wrdsh\",\"jtedj\",\"exacm\",\"tqzye\",\"tezed\",\"tnbuj\",\"szpyw\",\"cpfwp\",\"xqgrh\",\"zwjut\",\"ksnpj\",\"naqxe\",\"lamll\",\"pvjko\",\"kjpnx\",\"absts\",\"gwkem\",\"ubffo\",\"vjciy\",\"zxksy\",\"zbykt\",\"skjqk\",\"rtxpd\",\"csojk\",\"dutwq\",\"vxrnm\",\"gtdha\",\"krttk\",\"wmbhh\",\"rsvtr\",\"rpdcp\",\"aacds\",\"kvgrz\",\"xhbhk\",\"pdsib\",\"uknjr\",\"wosja\",\"ibdfd\",\"scmcf\",\"nbsic\",\"auxki\",\"dagus\",\"jgcec\",\"atpac\",\"zfjsi\",\"equpw\",\"evdsn\",\"nzeah\",\"dlmpg\",\"xkyhs\",\"tctfn\",\"tlxyx\",\"bgbzx\",\"yqmvx\",\"uebog\",\"lasha\",\"qmyor\",\"gkqhi\",\"eohcl\",\"kllrd\",\"xakws\",\"mjosb\",\"vhwaa\",\"ozgiz\",\"pjosg\",\"tzbel\",\"fienc\",\"xbvvp\",\"kffsc\",\"jhwlx\",\"eojcc\",\"chbxe\",\"swfnk\",\"kxevi\",\"eaprk\",\"mmifz\",\"gernb\",\"kmwhu\",\"vhhxs\",\"ksrzq\",\"sqows\",\"ijzqn\",\"gkuhv\",\"qacco\",\"cbqbw\",\"oqioz\",\"lzrsl\",\"pqvqg\",\"rkkvc\",\"bsauc\",\"fyejs\",\"jticp\",\"cxemn\",\"jlqti\",\"mtgou\",\"qplsr\",\"kwzei\",\"ccxhs\",\"davsj\",\"jtmup\",\"gxkad\",\"fnxwe\",\"eeupa\",\"zdysh\",\"ocvxl\",\"weotn\",\"gdtwa\",\"dbzfb\",\"mtzlm\",\"qeikz\",\"gsnoa\",\"mkpxp\",\"jlony\",\"hovzm\",\"hmuxc\",\"dpjds\",\"iabqy\",\"cgdhb\",\"dgfev\",\"zahyq\",\"asupt\",\"xvqbj\",\"zbykt\",\"kxevi\",\"gtrgl\",\"soirn\",\"upvtq\",\"rkdot\",\"wosja\",\"nzags\",\"ybnnv\",\"lasha\",\"avwsf\",\"jtrls\",\"ddqdb\",\"bblxb\",\"enkfn\",\"kffsc\",\"mpfgb\",\"vyhac\",\"swfnk\",\"vrxvg\",\"mtgou\",\"gtyek\",\"ttzqo\",\"kltlp\",\"gkyqy\",\"scbrh\",\"letya\",\"jticp\",\"arijt\",\"prjxd\",\"gkuhv\",\"kblly\",\"jrxqk\",\"jiztn\",\"szpyw\",\"ipamt\",\"prszl\",\"umapz\",\"qksek\",\"jtmup\",\"kqcvg\",\"sqsif\",\"osykz\",\"ckxmd\",\"xwmff\",\"iqnvz\",\"xnlyb\",\"evdsn\",\"ugcdi\",\"kgahp\",\"bikau\",\"lzrsl\",\"qyobn\",\"jzljl\",\"equpw\",\"ccxhs\",\"gkqhi\",\"gtdha\",\"uhbta\",\"cgdhb\",\"baywo\",\"zhqmp\",\"xqgrh\",\"fidgr\",\"shixw\",\"exacm\",\"ldhzh\",\"dnhuj\",\"mnemj\",\"slaax\",\"lubdg\",\"plwml\",\"eaprk\",\"iwxcy\",\"gxsjf\",\"kezpt\",\"vhhxs\",\"appwl\",\"kjvqz\",\"mmifz\",\"zpcae\",\"lolyn\",\"lqrtg\",\"cpirl\",\"xfcvn\",\"skxjv\",\"wvvgr\",\"ibeus\",\"ltlkp\",\"wqzyf\",\"eqzcj\",\"grnie\",\"wckzr\",\"tccxg\",\"jsvti\",\"xpstv\",\"bcfpt\",\"wdqvm\",\"hmuxc\",\"scxzh\",\"iooko\",\"qesrz\",\"csojk\",\"dbzfb\",\"ismqs\",\"eohcl\",\"skvxw\",\"yvmbu\",\"bvusk\",\"gdxak\",\"poxxm\",\"gsnoa\",\"nuwdm\",\"ausom\",\"vengj\",\"hovzm\",\"qzabm\",\"attwl\",\"kwfaw\",\"ksnpj\",\"zdysh\",\"eyzrg\",\"rtotr\",\"rqxfe\",\"pmlfr\",\"pjosg\",\"bwajm\",\"mkpxp\",\"zzvqn\",\"qfrmv\",\"sabsb\",\"yrdtb\",\"siico\",\"cnmwb\",\"vddoq\",\"vubeh\",\"uknjr\",\"playc\",\"zwspo\",\"fmplz\",\"xwaqh\",\"nftdf\",\"emgta\",\"sormd\",\"bnpxn\",\"wtdsl\",\"dutwq\",\"ggbds\",\"tdqde\",\"bgbzx\",\"skjqk\",\"gzziv\",\"tceid\",\"fbidz\",\"zzwxu\",\"gxrvc\",\"htncb\",\"ygeiq\",\"iujgr\",\"eecbn\",\"mjccm\",\"sfruh\",\"vjciy\",\"qplsr\",\"bouqw\",\"kpafl\",\"jkvfg\",\"azcbh\",\"fnxwe\",\"eeupa\",\"czsgr\",\"uyskj\",\"yavjl\",\"cnprh\",\"tverp\",\"kwzei\",\"zdlwm\",\"vhwaa\",\"npojx\",\"eqspt\",\"idmfe\",\"iwewq\",\"tyutr\",\"swxqi\",\"nrdhu\",\"jdmbw\",\"pkwrs\",\"zjhaq\",\"rhbjt\",\"zxksy\",\"xpdwl\",\"qeikz\",\"msiio\",\"uivdj\",\"fienc\",\"sjaxm\",\"ewzmc\",\"xtbzt\",\"hqmwj\",\"vxhlu\",\"ziwdv\",\"nyszo\",\"exmdw\",\"ocvxl\",\"iwzfp\",\"nmzms\",\"lvfjz\",\"fkixt\",\"njhst\",\"ffjva\",\"iabqy\",\"riphx\",\"dxzik\",\"ifiqj\",\"ypced\",\"ijzqn\",\"dyrcn\",\"dagus\",\"kysas\",\"eudfz\",\"yqmvx\",\"chbxe\",\"apmsp\",\"bgxdq\",\"idtvn\",\"bnfwv\",\"vhfgn\",\"xakws\",\"rsvtr\",\"cbqbw\",\"ckpvl\",\"sfvar\",\"ctcjs\",\"pdsib\",\"tieno\",\"zxksy\",\"wtdsl\",\"qplsr\",\"uknnm\",\"ougyx\",\"ygeiq\",\"uebog\",\"mkpxp\",\"sjaxm\",\"idtvn\",\"dyrcn\",\"pxkav\",\"vengj\",\"ltlkp\",\"fzxbt\",\"tdqde\",\"sbntp\",\"qksek\",\"qkwtt\",\"shixw\",\"grnie\",\"rsvtr\",\"jrxqk\",\"nzags\",\"puotb\",\"dvlwv\",\"mmifz\",\"krttk\",\"xkyhs\",\"frcms\",\"zlkal\",\"gcyus\",\"wosja\",\"ausom\",\"zfegi\",\"rkbqe\",\"dvvrv\",\"gtrgl\",\"kjvqz\",\"zdysh\",\"zpcae\",\"enkfn\",\"berhf\",\"gdtwa\",\"bnpxn\",\"fkixt\",\"myjjb\",\"fnxwe\",\"tkegp\",\"ismqs\",\"lvfjz\",\"gwkem\",\"iwewq\",\"rhbjt\",\"flral\",\"vtpus\",\"qtocb\",\"bnfwv\",\"hlghs\",\"eudfz\",\"attwl\",\"mxzuu\",\"qesrz\",\"napsn\",\"drjzg\",\"swfnk\",\"nuwdm\",\"sqoak\",\"hvtkq\",\"ipamt\",\"ihbps\",\"rkdot\",\"jkvfg\",\"iujgr\",\"moiqg\",\"ugcdi\",\"evdsn\",\"zogch\",\"lmxrr\",\"spcfw\",\"vhife\",\"vhwaa\",\"zqins\",\"vmpav\",\"gzziv\",\"emgta\",\"bikau\",\"sfruh\",\"vpbzj\",\"vswuw\",\"wrdsh\",\"tqzye\",\"nrdhu\",\"qacco\",\"eadkn\",\"qeikz\",\"zzvqn\",\"oqioz\",\"xtgjd\",\"oloqs\",\"hbzpt\",\"jqhxm\",\"sabsb\",\"xeqch\",\"yybvo\",\"lopnq\",\"jtrls\",\"kpnxq\",\"prjxd\",\"jzljl\",\"rtxpd\",\"dutwq\",\"xtbzt\",\"rqxfe\",\"wckzr\",\"wbqma\",\"sxtwt\",\"zgebv\",\"ldhzh\",\"eaprk\",\"dlzey\",\"szpyw\",\"lvybk\",\"npojx\",\"gdxak\",\"auxki\",\"qzhdu\",\"gernb\",\"bwajm\",\"srnal\",\"kxevi\",\"skxjv\",\"icsja\",\"cqbao\",\"urbsp\",\"hirbh\",\"bcfpt\",\"yjnae\",\"qzabm\",\"iooko\",\"ezkot\",\"tyxln\",\"qmjou\",\"ibdfd\",\"cluvh\",\"xhbhk\",\"thobi\",\"oxebv\",\"takfl\",\"xpstv\",\"cgrct\",\"fwkug\",\"gkuhv\",\"ozgiz\",\"dnuke\",\"paktj\",\"eqzcj\",\"soyku\",\"cpfwp\",\"zxzxz\",\"eigrc\",\"ypced\",\"hnwkg\",\"avwsf\",\"gsnoa\",\"zbykt\",\"kmwhu\",\"auyqy\",\"areyg\",\"dlmpg\",\"bgxdq\",\"sqsif\",\"imtsr\",\"cnmwb\",\"lamll\",\"fmjzp\",\"daehx\",\"kqcvg\",\"tjbas\",\"eafnv\",\"tdtpi\",\"sfhac\",\"lubdg\",\"xwaqh\",\"tnbuj\",\"jsvti\",\"rnswp\",\"slaax\",\"xfcvn\",\"mjccm\",\"nzeah\",\"ksrzq\",\"aepuf\",\"rfojo\",\"osykz\",\"tyutr\",\"eonka\",\"riphx\",\"scmcf\",\"poxxm\",\"uyskj\",\"hovzm\",\"mtzlm\",\"ubffo\",\"daria\",\"xbvvp\",\"vxhlu\",\"ovrej\",\"dzslj\",\"ybnnv\",\"mpfgb\",\"tezed\",\"apmsp\",\"vhhxs\",\"mxorn\",\"eecbn\",\"vljpj\",\"ozeqz\",\"pmlfr\",\"gkqhi\",\"bblxb\",\"appwl\",\"wonvt\",\"fydom\",\"qfrmv\",\"dyazi\",\"mmpbp\",\"mafme\",\"uumid\",\"ccxhs\",\"mwwcj\",\"zqmgk\",\"hmuxc\",\"cpirl\",\"qmyor\",\"bfuid\"]\n",
       "}\n",
       "}]\n",
       "};\n",
       "           var plotContainer = document.getElementById(\"KkjmjV\");\n",
       "           window.letsPlotCall(function() {{\n",
       "               LetsPlot.buildPlotFromProcessedSpecs(plotSpec, -1, -1, plotContainer);\n",
       "           }});\n",
       "       })();    \n",
       "   </script>"
      ]
     },
     "execution_count": 6,
     "metadata": {},
     "output_type": "execute_result"
    }
   ],
   "source": [
    "// 'pick' sampling preserves groups on bar chart.\n",
    "p + geomBar(size = 0) { fill = \"g\" }"
   ]
  },
  {
   "cell_type": "code",
   "execution_count": 7,
   "metadata": {},
   "outputs": [
    {
     "data": {
      "text/html": [
       "   <div id=\"7Ftl6H\"></div>\n",
       "   <script type=\"text/javascript\" data-lets-plot-script=\"plot\">\n",
       "       (function() {\n",
       "           var plotSpec={\n",
       "\"mapping\":{\n",
       "\"x\":\"word\"\n",
       "},\n",
       "\"data\":{\n",
       "},\n",
       "\"kind\":\"plot\",\n",
       "\"scales\":[],\n",
       "\"layers\":[{\n",
       "\"mapping\":{\n",
       "\"x\":\"word\",\n",
       "\"fill\":\"g\"\n",
       "},\n",
       "\"stat\":\"count\",\n",
       "\"size\":0.0,\n",
       "\"position\":\"stack\",\n",
       "\"geom\":\"bar\",\n",
       "\"data_meta\":{\n",
       "\"mapping_annotations\":[{\n",
       "\"aes\":\"x\",\n",
       "\"annotation\":\"as_discrete\",\n",
       "\"parameters\":{\n",
       "\"label\":\"word\",\n",
       "\"order_by\":\"..count..\"\n",
       "}\n",
       "}]\n",
       "},\n",
       "\"data\":{\n",
       "\"..count..\":[1.0,2.0,1.0,1.0,2.0,1.0,2.0,1.0,2.0,1.0,2.0,1.0,2.0,1.0,1.0,1.0,1.0,1.0,1.0,2.0,1.0,1.0,2.0,4.0,2.0,2.0,2.0,2.0,1.0,1.0,1.0,1.0,1.0,4.0,2.0,1.0,1.0,1.0,2.0,3.0,1.0,1.0,1.0,1.0,3.0,2.0,1.0,1.0,1.0,3.0,1.0,1.0,2.0,3.0,1.0,1.0,1.0,1.0,2.0,3.0,1.0,2.0,1.0,1.0,2.0,1.0,1.0,1.0,1.0,2.0,2.0,1.0,2.0,1.0,3.0,2.0,1.0,1.0,1.0,1.0,3.0,1.0,1.0,2.0,2.0,1.0,1.0,1.0,1.0,1.0,2.0,1.0,3.0,1.0,1.0,2.0,2.0,1.0,2.0,2.0,2.0,2.0,2.0,1.0,2.0,1.0,1.0,1.0,1.0,1.0,2.0,1.0,2.0,1.0,2.0,1.0,4.0,1.0,1.0,1.0,2.0,1.0,1.0,1.0,1.0,2.0,1.0,1.0,1.0,1.0,2.0,1.0,1.0,3.0,1.0,1.0,1.0,1.0,1.0,1.0,3.0,2.0,2.0,2.0,1.0,1.0,3.0,2.0,1.0,1.0,1.0,3.0,1.0,2.0,2.0,1.0,1.0,2.0,1.0,1.0,2.0,1.0,2.0,1.0,1.0,1.0,1.0,1.0,1.0,1.0,1.0,1.0,1.0,1.0,1.0,1.0,1.0,1.0,2.0,3.0,1.0,1.0,2.0,1.0,1.0,1.0,2.0,1.0,2.0,1.0,1.0,1.0,1.0,2.0,2.0,1.0,1.0,1.0,2.0,1.0,1.0,2.0,1.0,1.0,1.0,1.0,1.0,1.0,1.0,2.0,1.0,1.0,1.0,1.0,1.0,1.0,1.0,1.0,1.0,2.0,1.0,1.0,1.0,1.0,1.0,1.0,1.0,1.0,1.0,1.0,1.0,1.0,1.0,1.0,1.0,1.0,1.0,1.0,1.0,1.0,1.0,1.0,1.0,1.0,1.0,1.0,1.0,1.0,3.0,1.0,1.0,2.0,1.0,1.0,1.0,1.0,4.0,2.0,2.0,3.0,2.0,1.0,1.0,1.0,3.0,2.0,2.0,2.0,1.0,2.0,2.0,2.0,2.0,2.0,1.0,1.0,2.0,2.0,2.0,1.0,3.0,1.0,1.0,2.0,1.0,1.0,1.0,3.0,2.0,2.0,2.0,1.0,1.0,4.0,3.0,2.0,2.0,2.0,2.0,2.0,2.0,1.0,1.0,2.0,1.0,1.0,2.0,2.0,1.0,1.0,3.0,2.0,2.0,1.0,2.0,1.0,2.0,1.0,2.0,1.0,1.0,1.0,2.0,1.0,1.0,1.0,4.0,1.0,2.0,1.0,2.0,2.0,1.0,1.0,1.0,2.0,1.0,2.0,1.0,1.0,1.0,1.0,3.0,1.0,1.0,2.0,1.0,2.0,2.0,1.0,2.0,3.0,1.0,3.0,1.0,1.0,1.0,2.0,2.0,1.0,3.0,1.0,1.0,1.0,1.0,1.0,1.0,1.0,1.0,1.0,1.0,2.0,1.0,1.0,2.0,1.0,1.0,2.0,1.0,2.0,2.0,2.0,3.0,2.0,1.0,2.0,2.0,1.0,1.0,2.0,2.0,1.0,1.0,1.0,1.0,1.0,1.0,1.0,2.0,1.0,1.0,1.0,1.0,1.0,1.0,1.0,1.0,1.0,1.0,1.0,2.0,1.0,1.0,1.0,2.0,1.0,1.0,1.0,1.0,1.0,1.0,1.0,1.0,3.0,1.0,1.0,1.0,2.0,1.0,1.0,1.0,1.0,1.0,1.0,1.0,1.0,1.0,1.0,1.0,1.0,1.0,1.0,1.0,2.0,1.0,1.0,1.0,1.0,1.0,1.0,1.0,1.0,1.0,2.0,2.0,1.0,1.0,1.0,1.0,1.0,1.0,1.0,1.0,1.0,1.0,1.0,1.0,1.0,1.0,1.0,1.0,1.0,1.0,1.0,1.0,1.0,1.0,1.0,1.0,1.0,1.0,1.0,1.0,1.0,1.0,1.0,2.0,2.0,1.0,2.0,1.0,1.0,1.0,4.0,3.0,3.0,1.0,1.0,3.0,1.0,1.0,2.0,1.0,1.0,2.0,2.0,2.0,2.0,2.0,1.0,2.0,2.0,1.0,1.0,2.0,2.0,1.0,2.0,2.0,1.0,2.0,1.0,1.0,1.0,1.0,2.0,2.0,2.0,4.0,2.0,1.0,1.0,1.0,1.0,1.0,2.0,2.0,2.0,1.0,2.0,1.0,2.0,1.0,2.0,3.0,1.0,1.0,2.0,2.0,2.0,1.0,1.0,1.0,1.0,3.0,1.0,1.0,1.0,1.0,2.0,1.0,1.0,1.0,1.0,1.0,1.0,2.0,1.0,1.0,1.0,1.0,1.0,1.0,1.0,1.0,2.0,2.0,2.0,1.0,1.0,2.0,1.0,1.0,1.0,1.0,1.0,1.0,1.0,1.0,1.0,1.0,1.0,1.0,2.0,2.0,1.0,3.0,4.0,1.0,1.0,1.0,1.0,2.0,1.0,1.0,1.0,1.0,1.0,1.0,2.0,1.0,1.0,1.0,1.0,1.0,1.0,2.0,1.0,2.0,1.0,2.0,3.0,2.0,1.0,1.0,2.0,1.0,1.0,1.0,1.0,1.0,2.0,1.0,2.0,2.0,1.0,1.0,2.0,1.0,2.0,1.0,1.0,3.0,3.0,1.0,1.0,1.0,2.0,1.0,3.0,1.0,1.0,1.0,1.0,1.0,1.0,1.0,1.0,1.0,1.0,1.0,1.0,1.0,1.0,1.0,2.0,1.0,2.0,1.0,1.0,1.0,1.0,1.0,1.0,1.0,1.0,1.0,1.0,2.0,1.0,1.0,1.0,1.0,1.0,1.0,1.0,1.0,1.0,1.0,1.0,1.0,2.0,2.0,1.0,1.0,1.0,1.0,1.0,1.0,1.0,1.0,1.0,1.0,1.0,1.0,1.0,1.0,1.0,1.0,1.0,1.0,1.0,1.0,1.0,1.0,3.0,1.0,1.0,1.0,1.0,1.0,1.0],\n",
       "\"g\":[\"b\",\"b\",\"b\",\"b\",\"b\",\"b\",\"b\",\"b\",\"b\",\"b\",\"b\",\"b\",\"b\",\"b\",\"b\",\"b\",\"b\",\"b\",\"b\",\"b\",\"b\",\"b\",\"b\",\"b\",\"b\",\"b\",\"b\",\"b\",\"b\",\"b\",\"b\",\"b\",\"b\",\"b\",\"b\",\"b\",\"b\",\"b\",\"b\",\"b\",\"b\",\"b\",\"b\",\"b\",\"b\",\"b\",\"b\",\"b\",\"b\",\"b\",\"b\",\"b\",\"b\",\"b\",\"b\",\"b\",\"b\",\"b\",\"b\",\"b\",\"b\",\"b\",\"b\",\"b\",\"b\",\"b\",\"b\",\"b\",\"b\",\"b\",\"b\",\"b\",\"b\",\"b\",\"b\",\"b\",\"b\",\"b\",\"b\",\"b\",\"b\",\"b\",\"b\",\"b\",\"b\",\"b\",\"b\",\"b\",\"b\",\"b\",\"b\",\"b\",\"b\",\"b\",\"b\",\"b\",\"b\",\"b\",\"b\",\"b\",\"b\",\"b\",\"b\",\"b\",\"b\",\"b\",\"b\",\"b\",\"b\",\"b\",\"b\",\"b\",\"b\",\"b\",\"b\",\"b\",\"b\",\"b\",\"b\",\"b\",\"b\",\"b\",\"b\",\"b\",\"b\",\"b\",\"b\",\"b\",\"b\",\"b\",\"b\",\"b\",\"b\",\"b\",\"b\",\"b\",\"b\",\"b\",\"b\",\"b\",\"b\",\"b\",\"b\",\"b\",\"b\",\"b\",\"b\",\"b\",\"b\",\"b\",\"b\",\"b\",\"b\",\"b\",\"b\",\"b\",\"b\",\"b\",\"b\",\"b\",\"b\",\"b\",\"b\",\"b\",\"b\",\"b\",\"b\",\"b\",\"b\",\"b\",\"b\",\"b\",\"b\",\"b\",\"b\",\"b\",\"b\",\"b\",\"b\",\"b\",\"b\",\"b\",\"b\",\"b\",\"b\",\"b\",\"b\",\"b\",\"b\",\"b\",\"b\",\"b\",\"b\",\"b\",\"b\",\"b\",\"b\",\"b\",\"b\",\"b\",\"b\",\"b\",\"b\",\"b\",\"b\",\"b\",\"b\",\"b\",\"b\",\"b\",\"b\",\"b\",\"b\",\"b\",\"b\",\"b\",\"b\",\"b\",\"b\",\"b\",\"b\",\"b\",\"b\",\"b\",\"b\",\"b\",\"b\",\"b\",\"b\",\"b\",\"b\",\"b\",\"b\",\"b\",\"b\",\"b\",\"b\",\"b\",\"b\",\"b\",\"b\",\"b\",\"b\",\"b\",\"b\",\"b\",\"b\",\"b\",\"a\",\"a\",\"a\",\"a\",\"a\",\"a\",\"a\",\"a\",\"a\",\"a\",\"a\",\"a\",\"a\",\"a\",\"a\",\"a\",\"a\",\"a\",\"a\",\"a\",\"a\",\"a\",\"a\",\"a\",\"a\",\"a\",\"a\",\"a\",\"a\",\"a\",\"a\",\"a\",\"a\",\"a\",\"a\",\"a\",\"a\",\"a\",\"a\",\"a\",\"a\",\"a\",\"a\",\"a\",\"a\",\"a\",\"a\",\"a\",\"a\",\"a\",\"a\",\"a\",\"a\",\"a\",\"a\",\"a\",\"a\",\"a\",\"a\",\"a\",\"a\",\"a\",\"a\",\"a\",\"a\",\"a\",\"a\",\"a\",\"a\",\"a\",\"a\",\"a\",\"a\",\"a\",\"a\",\"a\",\"a\",\"a\",\"a\",\"a\",\"a\",\"a\",\"a\",\"a\",\"a\",\"a\",\"a\",\"a\",\"a\",\"a\",\"a\",\"a\",\"a\",\"a\",\"a\",\"a\",\"a\",\"a\",\"a\",\"a\",\"a\",\"a\",\"a\",\"a\",\"a\",\"a\",\"a\",\"a\",\"a\",\"a\",\"a\",\"a\",\"a\",\"a\",\"a\",\"a\",\"a\",\"a\",\"a\",\"a\",\"a\",\"a\",\"a\",\"a\",\"a\",\"a\",\"a\",\"a\",\"a\",\"a\",\"a\",\"a\",\"a\",\"a\",\"a\",\"a\",\"a\",\"a\",\"a\",\"a\",\"a\",\"a\",\"a\",\"a\",\"a\",\"a\",\"a\",\"a\",\"a\",\"a\",\"a\",\"a\",\"a\",\"a\",\"a\",\"a\",\"a\",\"a\",\"a\",\"a\",\"a\",\"a\",\"a\",\"a\",\"a\",\"a\",\"a\",\"a\",\"a\",\"a\",\"a\",\"a\",\"a\",\"a\",\"a\",\"a\",\"a\",\"a\",\"a\",\"a\",\"a\",\"a\",\"a\",\"a\",\"a\",\"a\",\"a\",\"a\",\"a\",\"a\",\"a\",\"a\",\"a\",\"a\",\"a\",\"a\",\"a\",\"a\",\"a\",\"a\",\"a\",\"a\",\"a\",\"a\",\"a\",\"a\",\"a\",\"a\",\"a\",\"a\",\"a\",\"a\",\"a\",\"a\",\"a\",\"a\",\"a\",\"a\",\"a\",\"a\",\"a\",\"a\",\"a\",\"a\",\"a\",\"a\",\"a\",\"a\",\"a\",\"a\",\"a\",\"a\",\"a\",\"a\",\"a\",\"a\",\"a\",\"a\",\"c\",\"c\",\"c\",\"c\",\"c\",\"c\",\"c\",\"c\",\"c\",\"c\",\"c\",\"c\",\"c\",\"c\",\"c\",\"c\",\"c\",\"c\",\"c\",\"c\",\"c\",\"c\",\"c\",\"c\",\"c\",\"c\",\"c\",\"c\",\"c\",\"c\",\"c\",\"c\",\"c\",\"c\",\"c\",\"c\",\"c\",\"c\",\"c\",\"c\",\"c\",\"c\",\"c\",\"c\",\"c\",\"c\",\"c\",\"c\",\"c\",\"c\",\"c\",\"c\",\"c\",\"c\",\"c\",\"c\",\"c\",\"c\",\"c\",\"c\",\"c\",\"c\",\"c\",\"c\",\"c\",\"c\",\"c\",\"c\",\"c\",\"c\",\"c\",\"c\",\"c\",\"c\",\"c\",\"c\",\"c\",\"c\",\"c\",\"c\",\"c\",\"c\",\"c\",\"c\",\"c\",\"c\",\"c\",\"c\",\"c\",\"c\",\"c\",\"c\",\"c\",\"c\",\"c\",\"c\",\"c\",\"c\",\"c\",\"c\",\"c\",\"c\",\"c\",\"c\",\"c\",\"c\",\"c\",\"c\",\"c\",\"c\",\"c\",\"c\",\"c\",\"c\",\"c\",\"c\",\"c\",\"c\",\"c\",\"c\",\"c\",\"c\",\"c\",\"c\",\"c\",\"c\",\"c\",\"c\",\"c\",\"c\",\"c\",\"c\",\"c\",\"c\",\"c\",\"c\",\"c\",\"c\",\"c\",\"c\",\"c\",\"c\",\"c\",\"c\",\"c\",\"c\",\"c\",\"c\",\"c\",\"c\",\"c\",\"c\",\"c\",\"c\",\"c\",\"c\",\"c\",\"c\",\"c\",\"c\",\"c\",\"c\",\"c\",\"c\",\"c\",\"c\",\"c\",\"c\",\"c\",\"c\",\"c\",\"c\",\"c\",\"c\",\"c\",\"c\",\"c\",\"c\",\"c\",\"c\",\"c\",\"c\",\"c\",\"c\",\"c\",\"c\",\"c\",\"c\",\"c\",\"c\",\"c\",\"c\",\"c\",\"c\",\"c\",\"c\",\"c\",\"c\",\"c\",\"c\",\"c\",\"c\",\"c\",\"c\",\"c\",\"c\",\"c\",\"c\",\"c\",\"c\",\"c\",\"c\",\"c\",\"c\",\"c\",\"c\",\"c\",\"c\",\"c\",\"c\",\"c\",\"c\",\"c\",\"c\",\"c\",\"c\",\"c\",\"c\",\"c\",\"c\",\"c\",\"c\",\"c\",\"c\",\"c\",\"c\"],\n",
       "\"word\":[\"tjbas\",\"wonvt\",\"xfcvn\",\"cnprh\",\"loimw\",\"moiqg\",\"ovrej\",\"nfpjv\",\"jaewo\",\"prjxd\",\"wdqvm\",\"gdxak\",\"kihqo\",\"pkwrs\",\"mjccm\",\"cluvh\",\"rqxfe\",\"ekxca\",\"hnwkg\",\"ygeiq\",\"eonka\",\"ttzqo\",\"zskuv\",\"rnswp\",\"teryn\",\"yavjl\",\"jueus\",\"sxtwt\",\"kwfaw\",\"iwewq\",\"bnpxn\",\"xwaqh\",\"vzxpj\",\"xnlyb\",\"zzwxu\",\"ldhzh\",\"nyukr\",\"fmplz\",\"rkdot\",\"ptsrl\",\"bblxb\",\"iooko\",\"idmfe\",\"uknnm\",\"urbsp\",\"tviek\",\"fwkug\",\"eigrc\",\"sfruh\",\"tyxln\",\"tkegp\",\"iisuc\",\"hkwbx\",\"tieno\",\"eaxfc\",\"lvfjz\",\"nuwdm\",\"hwqpd\",\"yvmbu\",\"avwsf\",\"kysas\",\"dnuke\",\"fidgr\",\"edanq\",\"xtgjd\",\"mxorn\",\"ferok\",\"jrxqk\",\"uumid\",\"tshvj\",\"areyg\",\"rfgks\",\"bcfpt\",\"kdpyw\",\"qksek\",\"wvvgr\",\"tghej\",\"gkyqy\",\"grnie\",\"qzabm\",\"baywo\",\"dyazi\",\"wckzr\",\"daria\",\"dhdbq\",\"sqsif\",\"iqnvz\",\"bfuid\",\"fkixt\",\"ydqjc\",\"vhife\",\"nzags\",\"tverp\",\"azcbh\",\"htncb\",\"czsgr\",\"eafnv\",\"imtsr\",\"gozjo\",\"dttvf\",\"myjjb\",\"jdmbw\",\"lvybk\",\"zfegi\",\"plwml\",\"uthlc\",\"fzxbt\",\"ihbps\",\"qesrz\",\"mwwcj\",\"nrdhu\",\"ehjfd\",\"xqnec\",\"pmlfr\",\"tdtpi\",\"lolyn\",\"vljpj\",\"tclnd\",\"gxrvc\",\"tubgh\",\"gzziv\",\"eecbn\",\"siico\",\"izqyl\",\"enkfn\",\"rkbqe\",\"bnfwv\",\"xwmff\",\"ewzmc\",\"wrdsh\",\"jtedj\",\"exacm\",\"tqzye\",\"tezed\",\"tnbuj\",\"szpyw\",\"cpfwp\",\"xqgrh\",\"zwjut\",\"ksnpj\",\"naqxe\",\"lamll\",\"pvjko\",\"kjpnx\",\"absts\",\"gwkem\",\"ubffo\",\"vjciy\",\"zxksy\",\"zbykt\",\"skjqk\",\"rtxpd\",\"csojk\",\"dutwq\",\"vxrnm\",\"gtdha\",\"krttk\",\"wmbhh\",\"rsvtr\",\"rpdcp\",\"aacds\",\"kvgrz\",\"xhbhk\",\"pdsib\",\"uknjr\",\"wosja\",\"ibdfd\",\"scmcf\",\"nbsic\",\"auxki\",\"dagus\",\"jgcec\",\"atpac\",\"zfjsi\",\"equpw\",\"evdsn\",\"nzeah\",\"dlmpg\",\"xkyhs\",\"tctfn\",\"tlxyx\",\"bgbzx\",\"yqmvx\",\"uebog\",\"lasha\",\"qmyor\",\"gkqhi\",\"eohcl\",\"kllrd\",\"xakws\",\"mjosb\",\"vhwaa\",\"ozgiz\",\"pjosg\",\"tzbel\",\"fienc\",\"xbvvp\",\"kffsc\",\"jhwlx\",\"eojcc\",\"chbxe\",\"swfnk\",\"kxevi\",\"eaprk\",\"mmifz\",\"gernb\",\"kmwhu\",\"vhhxs\",\"ksrzq\",\"sqows\",\"ijzqn\",\"gkuhv\",\"qacco\",\"cbqbw\",\"oqioz\",\"lzrsl\",\"pqvqg\",\"rkkvc\",\"bsauc\",\"fyejs\",\"jticp\",\"cxemn\",\"jlqti\",\"mtgou\",\"qplsr\",\"kwzei\",\"ccxhs\",\"davsj\",\"jtmup\",\"gxkad\",\"fnxwe\",\"eeupa\",\"zdysh\",\"ocvxl\",\"weotn\",\"gdtwa\",\"dbzfb\",\"mtzlm\",\"qeikz\",\"gsnoa\",\"mkpxp\",\"jlony\",\"hovzm\",\"hmuxc\",\"dpjds\",\"iabqy\",\"cgdhb\",\"dgfev\",\"zahyq\",\"asupt\",\"xvqbj\",\"zbykt\",\"kxevi\",\"gtrgl\",\"soirn\",\"upvtq\",\"rkdot\",\"wosja\",\"nzags\",\"ybnnv\",\"lasha\",\"avwsf\",\"jtrls\",\"ddqdb\",\"bblxb\",\"enkfn\",\"kffsc\",\"mpfgb\",\"vyhac\",\"swfnk\",\"vrxvg\",\"mtgou\",\"gtyek\",\"ttzqo\",\"kltlp\",\"gkyqy\",\"scbrh\",\"letya\",\"jticp\",\"arijt\",\"prjxd\",\"gkuhv\",\"kblly\",\"jrxqk\",\"jiztn\",\"szpyw\",\"ipamt\",\"prszl\",\"umapz\",\"qksek\",\"jtmup\",\"kqcvg\",\"sqsif\",\"osykz\",\"ckxmd\",\"xwmff\",\"iqnvz\",\"xnlyb\",\"evdsn\",\"ugcdi\",\"kgahp\",\"bikau\",\"lzrsl\",\"qyobn\",\"jzljl\",\"equpw\",\"ccxhs\",\"gkqhi\",\"gtdha\",\"uhbta\",\"cgdhb\",\"baywo\",\"zhqmp\",\"xqgrh\",\"fidgr\",\"shixw\",\"exacm\",\"ldhzh\",\"dnhuj\",\"mnemj\",\"slaax\",\"lubdg\",\"plwml\",\"eaprk\",\"iwxcy\",\"gxsjf\",\"kezpt\",\"vhhxs\",\"appwl\",\"kjvqz\",\"mmifz\",\"zpcae\",\"lolyn\",\"lqrtg\",\"cpirl\",\"xfcvn\",\"skxjv\",\"wvvgr\",\"ibeus\",\"ltlkp\",\"wqzyf\",\"eqzcj\",\"grnie\",\"wckzr\",\"tccxg\",\"jsvti\",\"xpstv\",\"bcfpt\",\"wdqvm\",\"hmuxc\",\"scxzh\",\"iooko\",\"qesrz\",\"csojk\",\"dbzfb\",\"ismqs\",\"eohcl\",\"skvxw\",\"yvmbu\",\"bvusk\",\"gdxak\",\"poxxm\",\"gsnoa\",\"nuwdm\",\"ausom\",\"vengj\",\"hovzm\",\"qzabm\",\"attwl\",\"kwfaw\",\"ksnpj\",\"zdysh\",\"eyzrg\",\"rtotr\",\"rqxfe\",\"pmlfr\",\"pjosg\",\"bwajm\",\"mkpxp\",\"zzvqn\",\"qfrmv\",\"sabsb\",\"yrdtb\",\"siico\",\"cnmwb\",\"vddoq\",\"vubeh\",\"uknjr\",\"playc\",\"zwspo\",\"fmplz\",\"xwaqh\",\"nftdf\",\"emgta\",\"sormd\",\"bnpxn\",\"wtdsl\",\"dutwq\",\"ggbds\",\"tdqde\",\"bgbzx\",\"skjqk\",\"gzziv\",\"tceid\",\"fbidz\",\"zzwxu\",\"gxrvc\",\"htncb\",\"ygeiq\",\"iujgr\",\"eecbn\",\"mjccm\",\"sfruh\",\"vjciy\",\"qplsr\",\"bouqw\",\"kpafl\",\"jkvfg\",\"azcbh\",\"fnxwe\",\"eeupa\",\"czsgr\",\"uyskj\",\"yavjl\",\"cnprh\",\"tverp\",\"kwzei\",\"zdlwm\",\"vhwaa\",\"npojx\",\"eqspt\",\"idmfe\",\"iwewq\",\"tyutr\",\"swxqi\",\"nrdhu\",\"jdmbw\",\"pkwrs\",\"zjhaq\",\"rhbjt\",\"zxksy\",\"xpdwl\",\"qeikz\",\"msiio\",\"uivdj\",\"fienc\",\"sjaxm\",\"ewzmc\",\"xtbzt\",\"hqmwj\",\"vxhlu\",\"ziwdv\",\"nyszo\",\"exmdw\",\"ocvxl\",\"iwzfp\",\"nmzms\",\"lvfjz\",\"fkixt\",\"njhst\",\"ffjva\",\"iabqy\",\"riphx\",\"dxzik\",\"ifiqj\",\"ypced\",\"ijzqn\",\"dyrcn\",\"dagus\",\"kysas\",\"eudfz\",\"yqmvx\",\"chbxe\",\"apmsp\",\"bgxdq\",\"idtvn\",\"bnfwv\",\"vhfgn\",\"xakws\",\"rsvtr\",\"cbqbw\",\"ckpvl\",\"sfvar\",\"ctcjs\",\"pdsib\",\"tieno\",\"zxksy\",\"wtdsl\",\"qplsr\",\"uknnm\",\"ougyx\",\"ygeiq\",\"uebog\",\"mkpxp\",\"sjaxm\",\"idtvn\",\"dyrcn\",\"pxkav\",\"vengj\",\"ltlkp\",\"fzxbt\",\"tdqde\",\"sbntp\",\"qksek\",\"qkwtt\",\"shixw\",\"grnie\",\"rsvtr\",\"jrxqk\",\"nzags\",\"puotb\",\"dvlwv\",\"mmifz\",\"krttk\",\"xkyhs\",\"frcms\",\"zlkal\",\"gcyus\",\"wosja\",\"ausom\",\"zfegi\",\"rkbqe\",\"dvvrv\",\"gtrgl\",\"kjvqz\",\"zdysh\",\"zpcae\",\"enkfn\",\"berhf\",\"gdtwa\",\"bnpxn\",\"fkixt\",\"myjjb\",\"fnxwe\",\"tkegp\",\"ismqs\",\"lvfjz\",\"gwkem\",\"iwewq\",\"rhbjt\",\"flral\",\"vtpus\",\"qtocb\",\"bnfwv\",\"hlghs\",\"eudfz\",\"attwl\",\"mxzuu\",\"qesrz\",\"napsn\",\"drjzg\",\"swfnk\",\"nuwdm\",\"sqoak\",\"hvtkq\",\"ipamt\",\"ihbps\",\"rkdot\",\"jkvfg\",\"iujgr\",\"moiqg\",\"ugcdi\",\"evdsn\",\"zogch\",\"lmxrr\",\"spcfw\",\"vhife\",\"vhwaa\",\"zqins\",\"vmpav\",\"gzziv\",\"emgta\",\"bikau\",\"sfruh\",\"vpbzj\",\"vswuw\",\"wrdsh\",\"tqzye\",\"nrdhu\",\"qacco\",\"eadkn\",\"qeikz\",\"zzvqn\",\"oqioz\",\"xtgjd\",\"oloqs\",\"hbzpt\",\"jqhxm\",\"sabsb\",\"xeqch\",\"yybvo\",\"lopnq\",\"jtrls\",\"kpnxq\",\"prjxd\",\"jzljl\",\"rtxpd\",\"dutwq\",\"xtbzt\",\"rqxfe\",\"wckzr\",\"wbqma\",\"sxtwt\",\"zgebv\",\"ldhzh\",\"eaprk\",\"dlzey\",\"szpyw\",\"lvybk\",\"npojx\",\"gdxak\",\"auxki\",\"qzhdu\",\"gernb\",\"bwajm\",\"srnal\",\"kxevi\",\"skxjv\",\"icsja\",\"cqbao\",\"urbsp\",\"hirbh\",\"bcfpt\",\"yjnae\",\"qzabm\",\"iooko\",\"ezkot\",\"tyxln\",\"qmjou\",\"ibdfd\",\"cluvh\",\"xhbhk\",\"thobi\",\"oxebv\",\"takfl\",\"xpstv\",\"cgrct\",\"fwkug\",\"gkuhv\",\"ozgiz\",\"dnuke\",\"paktj\",\"eqzcj\",\"soyku\",\"cpfwp\",\"zxzxz\",\"eigrc\",\"ypced\",\"hnwkg\",\"avwsf\",\"gsnoa\",\"zbykt\",\"kmwhu\",\"auyqy\",\"areyg\",\"dlmpg\",\"bgxdq\",\"sqsif\",\"imtsr\",\"cnmwb\",\"lamll\",\"fmjzp\",\"daehx\",\"kqcvg\",\"tjbas\",\"eafnv\",\"tdtpi\",\"sfhac\",\"lubdg\",\"xwaqh\",\"tnbuj\",\"jsvti\",\"rnswp\",\"slaax\",\"xfcvn\",\"mjccm\",\"nzeah\",\"ksrzq\",\"aepuf\",\"rfojo\",\"osykz\",\"tyutr\",\"eonka\",\"riphx\",\"scmcf\",\"poxxm\",\"uyskj\",\"hovzm\",\"mtzlm\",\"ubffo\",\"daria\",\"xbvvp\",\"vxhlu\",\"ovrej\",\"dzslj\",\"ybnnv\",\"mpfgb\",\"tezed\",\"apmsp\",\"vhhxs\",\"mxorn\",\"eecbn\",\"vljpj\",\"ozeqz\",\"pmlfr\",\"gkqhi\",\"bblxb\",\"appwl\",\"wonvt\",\"fydom\",\"qfrmv\",\"dyazi\",\"mmpbp\",\"mafme\",\"uumid\",\"ccxhs\",\"mwwcj\",\"zqmgk\",\"hmuxc\",\"cpirl\",\"qmyor\",\"bfuid\"]\n",
       "}\n",
       "}]\n",
       "};\n",
       "           var plotContainer = document.getElementById(\"7Ftl6H\");\n",
       "           window.letsPlotCall(function() {{\n",
       "               LetsPlot.buildPlotFromProcessedSpecs(plotSpec, -1, -1, plotContainer);\n",
       "           }});\n",
       "       })();    \n",
       "   </script>"
      ]
     },
     "execution_count": 7,
     "metadata": {},
     "output_type": "execute_result"
    }
   ],
   "source": [
    "// Orgering words by `count` might be a good idea.\n",
    "p + geomBar(size = 0) {\n",
    "    fill = \"g\"\n",
    "    x = asDiscrete(\"word\", orderBy = \"..count..\")\n",
    "}"
   ]
  }
 ],
 "metadata": {
  "kernelspec": {
   "display_name": "Kotlin",
   "language": "kotlin",
   "name": "kotlin"
  },
  "language_info": {
   "codemirror_mode": "text/x-kotlin",
   "file_extension": ".kt",
   "mimetype": "text/x-kotlin",
   "name": "kotlin",
   "nbconvert_exporter": "",
   "pygments_lexer": "kotlin",
   "version": "1.8.0-dev-3517"
  }
 },
 "nbformat": 4,
 "nbformat_minor": 4
}
