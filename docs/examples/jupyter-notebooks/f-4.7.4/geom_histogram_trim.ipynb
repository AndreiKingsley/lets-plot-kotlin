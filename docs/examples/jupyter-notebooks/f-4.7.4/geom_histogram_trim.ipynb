{
 "cells": [
  {
   "cell_type": "markdown",
   "id": "6dcc53b5-1d5e-4ada-a3f9-da878c3e1eda",
   "metadata": {},
   "source": [
    "# Parameter `trim` for `geomHistogram()`\n",
    "The `trim` parameter controls how the stat is computed. With `trim=false` (the default value), the stat is computed on the full range of data. With `trim=true`, the stat is computed over the range of a group or facet. This enables the usage of the `scales='free_x'` parameter in the `facetWrap()` and `facetGrid()` functions."
   ]
  },
  {
   "cell_type": "code",
   "execution_count": 1,
   "id": "13dd0235-9b1b-4218-9185-ee2785ec1465",
   "metadata": {},
   "outputs": [
    {
     "data": {
      "text/html": [
       "   <div id=\"F6fPUf\"></div>\n",
       "   <script type=\"text/javascript\" data-lets-plot-script=\"library\">\n",
       "       if(!window.letsPlotCallQueue) {\n",
       "           window.letsPlotCallQueue = [];\n",
       "       }; \n",
       "       window.letsPlotCall = function(f) {\n",
       "           window.letsPlotCallQueue.push(f);\n",
       "       };\n",
       "       (function() {\n",
       "           var script = document.createElement(\"script\");\n",
       "           script.type = \"text/javascript\";\n",
       "           script.src = \"http://127.0.0.1:8080/js-package/build/dist/js/developmentExecutable/js-package.js\";\n",
       "           script.onload = function() {\n",
       "               window.letsPlotCall = function(f) {f();};\n",
       "               window.letsPlotCallQueue.forEach(function(f) {f();});\n",
       "               window.letsPlotCallQueue = [];\n",
       "               \n",
       "               \n",
       "           };\n",
       "           script.onerror = function(event) {\n",
       "               window.letsPlotCall = function(f) {};\n",
       "               window.letsPlotCallQueue = [];\n",
       "               var div = document.createElement(\"div\");\n",
       "               div.style.color = 'darkred';\n",
       "               div.textContent = 'Error loading Lets-Plot JS';\n",
       "               document.getElementById(\"F6fPUf\").appendChild(div);\n",
       "           };\n",
       "           var e = document.getElementById(\"F6fPUf\");\n",
       "           e.appendChild(script);\n",
       "       })();\n",
       "   </script>"
      ]
     },
     "metadata": {},
     "output_type": "display_data"
    }
   ],
   "source": [
    "%useLatestDescriptors\n",
    "%use lets-plot"
   ]
  },
  {
   "cell_type": "code",
   "execution_count": 2,
   "id": "4c6dc9f7-7ca0-4b98-80aa-cd516a6a104d",
   "metadata": {},
   "outputs": [
    {
     "data": {
      "text/plain": [
       "Lets-Plot Kotlin API v.0.0.0-SNAPSHOT. Frontend: Notebook with dynamically loaded JS. Lets-Plot JS v.0.0.0-SNAPSHOT."
      ]
     },
     "execution_count": 2,
     "metadata": {},
     "output_type": "execute_result"
    }
   ],
   "source": [
    "LetsPlot.getInfo()"
   ]
  },
  {
   "cell_type": "code",
   "execution_count": 3,
   "id": "54729116-1353-45df-a491-69a256e97e63",
   "metadata": {},
   "outputs": [],
   "source": [
    "val d = mapOf(\n",
    "    \"v\" to listOf(1, 2, 3, 10, 11, 12),\n",
    "    \"c\" to listOf(1, 1, 1, 2, 2, 2)\n",
    ")\n",
    "\n",
    "\n",
    "val p = ggplot(d) { x = \"v\"; fill = asDiscrete(\"c\") } + facetWrap(facets=\"c\", scales=\"free_x\")"
   ]
  },
  {
   "cell_type": "markdown",
   "id": "f40e5f34-2e4a-4963-a7ab-af7c04147701",
   "metadata": {},
   "source": [
    "With `trim=false` the `scales='free_x'` doesn't affect the x-axis:"
   ]
  },
  {
   "cell_type": "code",
   "execution_count": 4,
   "id": "7dc1c7c4-225b-4146-81e8-c2e42b51f8e8",
   "metadata": {},
   "outputs": [
    {
     "data": {
      "text/html": [
       "   <div id=\"6aIlP0\"></div>\n",
       "   <script type=\"text/javascript\" data-lets-plot-script=\"plot\">\n",
       "       (function() {\n",
       "           var plotSpec={\n",
       "\"mapping\":{\n",
       "\"x\":\"v\",\n",
       "\"fill\":\"c\"\n",
       "},\n",
       "\"data\":{\n",
       "},\n",
       "\"kind\":\"plot\",\n",
       "\"scales\":[],\n",
       "\"layers\":[{\n",
       "\"mapping\":{\n",
       "},\n",
       "\"stat\":\"bin\",\n",
       "\"position\":\"stack\",\n",
       "\"geom\":\"histogram\",\n",
       "\"data\":{\n",
       "\"c\":[1.0,1.0,1.0,1.0,1.0,1.0,1.0,1.0,1.0,1.0,1.0,1.0,1.0,1.0,1.0,1.0,1.0,1.0,1.0,1.0,1.0,1.0,1.0,1.0,1.0,1.0,1.0,1.0,1.0,1.0,2.0,2.0,2.0,2.0,2.0,2.0,2.0,2.0,2.0,2.0,2.0,2.0,2.0,2.0,2.0,2.0,2.0,2.0,2.0,2.0,2.0,2.0,2.0,2.0,2.0,2.0,2.0,2.0,2.0,2.0],\n",
       "\"..count..\":[1.0,0.0,0.0,1.0,0.0,1.0,0.0,0.0,0.0,0.0,0.0,0.0,0.0,0.0,0.0,0.0,0.0,0.0,0.0,0.0,0.0,0.0,0.0,0.0,0.0,0.0,0.0,0.0,0.0,0.0,0.0,0.0,0.0,0.0,0.0,0.0,0.0,0.0,0.0,0.0,0.0,0.0,0.0,0.0,0.0,0.0,0.0,0.0,0.0,0.0,0.0,0.0,0.0,0.0,1.0,0.0,1.0,0.0,0.0,1.0],\n",
       "\"v\":[0.9352222222222223,1.319,1.702777777777778,2.0865555555555555,2.4703333333333335,2.854111111111111,3.237888888888889,3.621666666666667,4.005444444444445,4.389222222222222,4.773,5.156777777777778,5.540555555555556,5.924333333333333,6.308111111111112,6.691888888888889,7.075666666666667,7.459444444444444,7.843222222222222,8.227,8.610777777777777,8.994555555555555,9.378333333333334,9.76211111111111,10.145888888888889,10.529666666666667,10.913444444444444,11.297222222222222,11.681000000000001,12.064777777777778,0.9352222222222223,1.319,1.702777777777778,2.0865555555555555,2.4703333333333335,2.854111111111111,3.237888888888889,3.621666666666667,4.005444444444445,4.389222222222222,4.773,5.156777777777778,5.540555555555556,5.924333333333333,6.308111111111112,6.691888888888889,7.075666666666667,7.459444444444444,7.843222222222222,8.227,8.610777777777777,8.994555555555555,9.378333333333334,9.76211111111111,10.145888888888889,10.529666666666667,10.913444444444444,11.297222222222222,11.681000000000001,12.064777777777778]\n",
       "},\n",
       "\"data_meta\":{\n",
       "\"series_annotations\":[{\n",
       "\"column\":\"c\",\n",
       "\"factor_levels\":[1.0,2.0]\n",
       "}]\n",
       "}\n",
       "}],\n",
       "\"facet\":{\n",
       "\"name\":\"wrap\",\n",
       "\"dir\":\"h\",\n",
       "\"facets\":\"c\",\n",
       "\"scales\":\"free_x\",\n",
       "\"order\":1.0\n",
       "},\n",
       "\"data_meta\":{\n",
       "\"series_annotations\":[{\n",
       "\"type\":\"int\",\n",
       "\"column\":\"c\"\n",
       "},{\n",
       "\"type\":\"int\",\n",
       "\"column\":\"v\"\n",
       "}],\n",
       "\"mapping_annotations\":[{\n",
       "\"aes\":\"fill\",\n",
       "\"annotation\":\"as_discrete\",\n",
       "\"parameters\":{\n",
       "\"label\":\"c\"\n",
       "}\n",
       "}]\n",
       "}\n",
       "};\n",
       "           var plotContainer = document.getElementById(\"6aIlP0\");\n",
       "           window.letsPlotCall(function() {{\n",
       "               LetsPlot.buildPlotFromProcessedSpecs(plotSpec, -1, -1, plotContainer);\n",
       "           }});\n",
       "       })();\n",
       "   </script>"
      ]
     },
     "execution_count": 4,
     "metadata": {},
     "output_type": "execute_result"
    }
   ],
   "source": [
    "p + geomHistogram()"
   ]
  },
  {
   "cell_type": "markdown",
   "id": "029e1bf6-4bef-4fb5-ad26-1f3afc15c18c",
   "metadata": {},
   "source": [
    "`trim=true` fixes the `scales='free_x'` parameter:"
   ]
  },
  {
   "cell_type": "code",
   "execution_count": 5,
   "id": "8a9c6467-e3a2-4284-9847-77d591507d91",
   "metadata": {},
   "outputs": [
    {
     "data": {
      "text/html": [
       "   <div id=\"zi0z7B\"></div>\n",
       "   <script type=\"text/javascript\" data-lets-plot-script=\"plot\">\n",
       "       (function() {\n",
       "           var plotSpec={\n",
       "\"mapping\":{\n",
       "\"x\":\"v\",\n",
       "\"fill\":\"c\"\n",
       "},\n",
       "\"data\":{\n",
       "},\n",
       "\"kind\":\"plot\",\n",
       "\"scales\":[],\n",
       "\"layers\":[{\n",
       "\"mapping\":{\n",
       "},\n",
       "\"stat\":\"bin\",\n",
       "\"trim\":true,\n",
       "\"position\":\"stack\",\n",
       "\"geom\":\"histogram\",\n",
       "\"data\":{\n",
       "\"c\":[1.0,1.0,1.0,1.0,1.0,1.0,1.0,1.0,1.0,1.0,1.0,1.0,1.0,1.0,1.0,1.0,1.0,1.0,1.0,1.0,1.0,1.0,1.0,1.0,1.0,1.0,1.0,1.0,1.0,1.0,2.0,2.0,2.0,2.0,2.0,2.0,2.0,2.0,2.0,2.0,2.0,2.0,2.0,2.0,2.0,2.0,2.0,2.0,2.0,2.0,2.0,2.0,2.0,2.0,2.0,2.0,2.0,2.0,2.0,2.0],\n",
       "\"..count..\":[1.0,0.0,0.0,0.0,0.0,0.0,0.0,0.0,0.0,0.0,0.0,0.0,0.0,0.0,0.0,1.0,0.0,0.0,0.0,0.0,0.0,0.0,0.0,0.0,0.0,0.0,0.0,0.0,0.0,1.0,1.0,0.0,0.0,0.0,0.0,0.0,0.0,0.0,0.0,0.0,0.0,0.0,0.0,0.0,0.0,1.0,0.0,0.0,0.0,0.0,0.0,0.0,0.0,0.0,0.0,0.0,0.0,0.0,0.0,1.0],\n",
       "\"v\":[0.9882222222222222,1.058,1.1277777777777778,1.1975555555555555,1.2673333333333332,1.3371111111111111,1.4068888888888889,1.4766666666666666,1.5464444444444445,1.616222222222222,1.686,1.7557777777777779,1.8255555555555554,1.8953333333333333,1.965111111111111,2.0348888888888887,2.1046666666666667,2.174444444444444,2.244222222222222,2.314,2.3837777777777776,2.4535555555555555,2.5233333333333334,2.593111111111111,2.662888888888889,2.7326666666666664,2.8024444444444443,2.8722222222222222,2.9419999999999997,3.0117777777777777,9.988222222222221,10.058,10.127777777777776,10.197555555555555,10.267333333333333,10.33711111111111,10.406888888888888,10.476666666666667,10.546444444444443,10.616222222222222,10.686,10.755777777777777,10.825555555555555,10.895333333333333,10.96511111111111,11.034888888888888,11.104666666666667,11.174444444444443,11.244222222222222,11.314,11.383777777777777,11.453555555555555,11.523333333333333,11.59311111111111,11.662888888888888,11.732666666666665,11.802444444444443,11.872222222222222,11.941999999999998,12.011777777777777]\n",
       "},\n",
       "\"data_meta\":{\n",
       "\"series_annotations\":[{\n",
       "\"column\":\"c\",\n",
       "\"factor_levels\":[1.0,2.0]\n",
       "}]\n",
       "}\n",
       "}],\n",
       "\"facet\":{\n",
       "\"name\":\"wrap\",\n",
       "\"dir\":\"h\",\n",
       "\"facets\":\"c\",\n",
       "\"scales\":\"free_x\",\n",
       "\"order\":1.0\n",
       "},\n",
       "\"data_meta\":{\n",
       "\"series_annotations\":[{\n",
       "\"type\":\"int\",\n",
       "\"column\":\"c\"\n",
       "},{\n",
       "\"type\":\"int\",\n",
       "\"column\":\"v\"\n",
       "}],\n",
       "\"mapping_annotations\":[{\n",
       "\"aes\":\"fill\",\n",
       "\"annotation\":\"as_discrete\",\n",
       "\"parameters\":{\n",
       "\"label\":\"c\"\n",
       "}\n",
       "}]\n",
       "}\n",
       "};\n",
       "           var plotContainer = document.getElementById(\"zi0z7B\");\n",
       "           window.letsPlotCall(function() {{\n",
       "               LetsPlot.buildPlotFromProcessedSpecs(plotSpec, -1, -1, plotContainer);\n",
       "           }});\n",
       "       })();\n",
       "   </script>"
      ]
     },
     "execution_count": 5,
     "metadata": {},
     "output_type": "execute_result"
    }
   ],
   "source": [
    "p + geomHistogram(trim=true)"
   ]
  }
 ],
 "metadata": {
  "kernelspec": {
   "display_name": "Kotlin",
   "language": "kotlin",
   "name": "kotlin"
  },
  "language_info": {
   "codemirror_mode": "text/x-kotlin",
   "file_extension": ".kt",
   "mimetype": "text/x-kotlin",
   "name": "kotlin",
   "nbconvert_exporter": "",
   "pygments_lexer": "kotlin",
   "version": "1.9.23"
  }
 },
 "nbformat": 4,
 "nbformat_minor": 5
}
