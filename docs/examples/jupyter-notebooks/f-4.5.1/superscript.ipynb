{
 "cells": [
  {
   "cell_type": "markdown",
   "id": "61b72bb9",
   "metadata": {},
   "source": [
    "# Exponent format in Lets-Plot Kotlin\n",
    "The exponent format can be configured using the theme function parameter `exponentFormat`.  \n",
    "Available values:\n",
    "- `\"e\"` for E notation, e.g. 1.23e+3. This is a default format\n",
    "- `\"pow\"` for superscript power notation\n",
    "\n",
    "The exponent format is automatically applied to each value, formatted in scientific notation (either if the format is user defined or selected by lets-plot based on the data) and affects every part of a plot - geoms, scales, labels, tooltips."
   ]
  },
  {
   "cell_type": "code",
   "execution_count": 1,
   "id": "976dab96",
   "metadata": {},
   "outputs": [
    {
     "data": {
      "text/html": [
       "   <div id=\"0DD5OS\"></div>\n",
       "   <script type=\"text/javascript\" data-lets-plot-script=\"library\">\n",
       "       if(!window.letsPlotCallQueue) {\n",
       "           window.letsPlotCallQueue = [];\n",
       "       }; \n",
       "       window.letsPlotCall = function(f) {\n",
       "           window.letsPlotCallQueue.push(f);\n",
       "       };\n",
       "       (function() {\n",
       "           var script = document.createElement(\"script\");\n",
       "           script.type = \"text/javascript\";\n",
       "           script.src = \"https://cdn.jsdelivr.net/gh/JetBrains/lets-plot@v2.5.0/js-package/distr/lets-plot.min.js\";\n",
       "           script.onload = function() {\n",
       "               window.letsPlotCall = function(f) {f();};\n",
       "               window.letsPlotCallQueue.forEach(function(f) {f();});\n",
       "               window.letsPlotCallQueue = [];\n",
       "               \n",
       "               \n",
       "           };\n",
       "           script.onerror = function(event) {\n",
       "               window.letsPlotCall = function(f) {};\n",
       "               window.letsPlotCallQueue = [];\n",
       "               var div = document.createElement(\"div\");\n",
       "               div.style.color = 'darkred';\n",
       "               div.textContent = 'Error loading Lets-Plot JS';\n",
       "               document.getElementById(\"0DD5OS\").appendChild(div);\n",
       "           };\n",
       "           var e = document.getElementById(\"0DD5OS\");\n",
       "           e.appendChild(script);\n",
       "       })();\n",
       "   </script>"
      ]
     },
     "metadata": {},
     "output_type": "display_data"
    },
    {
     "data": {
      "text/html": [
       "   <div id=\"rYyuia\"></div>\n",
       "   <script type=\"text/javascript\" data-lets-plot-script=\"library\">\n",
       "       if(!window.letsPlotCallQueue) {\n",
       "           window.letsPlotCallQueue = [];\n",
       "       }; \n",
       "       window.letsPlotCall = function(f) {\n",
       "           window.letsPlotCallQueue.push(f);\n",
       "       };\n",
       "       (function() {\n",
       "           var script = document.createElement(\"script\");\n",
       "           script.type = \"text/javascript\";\n",
       "           script.src = \"http://127.0.0.1:8080/js-package/build/dist/js/developmentExecutable/js-package.js\";\n",
       "           script.onload = function() {\n",
       "               window.letsPlotCall = function(f) {f();};\n",
       "               window.letsPlotCallQueue.forEach(function(f) {f();});\n",
       "               window.letsPlotCallQueue = [];\n",
       "               \n",
       "               \n",
       "           };\n",
       "           script.onerror = function(event) {\n",
       "               window.letsPlotCall = function(f) {};\n",
       "               window.letsPlotCallQueue = [];\n",
       "               var div = document.createElement(\"div\");\n",
       "               div.style.color = 'darkred';\n",
       "               div.textContent = 'Error loading Lets-Plot JS';\n",
       "               document.getElementById(\"rYyuia\").appendChild(div);\n",
       "           };\n",
       "           var e = document.getElementById(\"rYyuia\");\n",
       "           e.appendChild(script);\n",
       "       })();\n",
       "   </script>"
      ]
     },
     "metadata": {},
     "output_type": "display_data"
    }
   ],
   "source": [
    "%useLatestDescriptors\n",
    "%use lets-plot"
   ]
  },
  {
   "cell_type": "code",
   "execution_count": 2,
   "id": "077e680b",
   "metadata": {},
   "outputs": [
    {
     "data": {
      "text/plain": [
       "Lets-Plot Kotlin API v.0.0.0-SNAPSHOT. Frontend: Notebook with dynamically loaded JS. Lets-Plot JS v.4.1.1.dev1."
      ]
     },
     "execution_count": 2,
     "metadata": {},
     "output_type": "execute_result"
    }
   ],
   "source": [
    "LetsPlot.getInfo()"
   ]
  },
  {
   "cell_type": "markdown",
   "id": "654097c5",
   "metadata": {},
   "source": [
    "#### Set `exponentFormat=\"pow\"` for all plots in the notebook\n",
    "Each plot still can be cofigured individually via `p + theme(exponentFormat=\"pow\"))`"
   ]
  },
  {
   "cell_type": "code",
   "execution_count": 3,
   "id": "ba9a3324",
   "metadata": {},
   "outputs": [],
   "source": [
    "LetsPlot.theme = theme(exponentFormat = \"pow\")"
   ]
  },
  {
   "cell_type": "code",
   "execution_count": 4,
   "id": "d705bf00",
   "metadata": {},
   "outputs": [],
   "source": [
    "val n = 10\n",
    "val data = mapOf(\n",
    "    \"x\" to (0 until n).toList(),\n",
    "    \"y\" to (0 until n).map { (it + 1 + 0.025 * it) * 10.0.pow(-5) },\n",
    "    \"c\" to (0 until n).map { it * 10.0.pow(10) }\n",
    ")\n",
    "\n",
    "val p = letsPlot(data) { x = \"x\"; y = \"y\"; fill = \"c\" } + geomBar(stat = Stat.identity)"
   ]
  },
  {
   "cell_type": "markdown",
   "id": "74837cbc",
   "metadata": {},
   "source": [
    "#### Default plot with `exponentFormat=\"pow\"`\n",
    "Only labels with the `e` notation are rendered with a superscript exponent. "
   ]
  },
  {
   "cell_type": "code",
   "execution_count": 5,
   "id": "a698843f",
   "metadata": {},
   "outputs": [
    {
     "data": {
      "text/html": [
       "   <div id=\"atbnzw\"></div>\n",
       "   <script type=\"text/javascript\" data-lets-plot-script=\"plot\">\n",
       "       (function() {\n",
       "           var plotSpec={\n",
       "\"mapping\":{\n",
       "\"x\":\"x\",\n",
       "\"y\":\"y\",\n",
       "\"fill\":\"c\"\n",
       "},\n",
       "\"data\":{\n",
       "\"c\":[0.0,1.0E10,2.0E10,3.0E10,4.0E10,5.0E10,6.0E10,7.0E10,8.0E10,9.0E10],\n",
       "\"x\":[0.0,1.0,2.0,3.0,4.0,5.0,6.0,7.0,8.0,9.0],\n",
       "\"y\":[1.0E-5,2.025E-5,3.05E-5,4.075000000000001E-5,5.1E-5,6.125000000000001E-5,7.15E-5,8.175000000000001E-5,9.2E-5,1.0225E-4]\n",
       "},\n",
       "\"kind\":\"plot\",\n",
       "\"scales\":[],\n",
       "\"layers\":[{\n",
       "\"mapping\":{\n",
       "},\n",
       "\"stat\":\"identity\",\n",
       "\"position\":\"stack\",\n",
       "\"geom\":\"bar\",\n",
       "\"data\":{\n",
       "}\n",
       "}],\n",
       "\"theme\":{\n",
       "\"exponent_format\":\"pow\"\n",
       "}\n",
       "};\n",
       "           var plotContainer = document.getElementById(\"atbnzw\");\n",
       "           window.letsPlotCall(function() {{\n",
       "               LetsPlot.buildPlotFromProcessedSpecs(plotSpec, -1, -1, plotContainer);\n",
       "           }});\n",
       "       })();    \n",
       "   </script>"
      ]
     },
     "execution_count": 5,
     "metadata": {},
     "output_type": "execute_result"
    }
   ],
   "source": [
    "p"
   ]
  },
  {
   "cell_type": "markdown",
   "id": "dc7b7ca4",
   "metadata": {},
   "source": [
    "#### Superscrpit exponent in geoms\n",
    "Geoms also support a `pow` exponent. The tilde flag (`~`) is useful in such cases to truncate non-significant zeros."
   ]
  },
  {
   "cell_type": "code",
   "execution_count": 6,
   "id": "3d4fe0fc",
   "metadata": {},
   "outputs": [
    {
     "data": {
      "text/html": [
       "   <div id=\"VYYI7Q\"></div>\n",
       "   <script type=\"text/javascript\" data-lets-plot-script=\"plot\">\n",
       "       (function() {\n",
       "           var plotSpec={\n",
       "\"mapping\":{\n",
       "\"x\":\"x\",\n",
       "\"y\":\"y\",\n",
       "\"fill\":\"c\"\n",
       "},\n",
       "\"data\":{\n",
       "\"c\":[0.0,1.0E10,2.0E10,3.0E10,4.0E10,5.0E10,6.0E10,7.0E10,8.0E10,9.0E10],\n",
       "\"x\":[0.0,1.0,2.0,3.0,4.0,5.0,6.0,7.0,8.0,9.0],\n",
       "\"y\":[1.0E-5,2.025E-5,3.05E-5,4.075000000000001E-5,5.1E-5,6.125000000000001E-5,7.15E-5,8.175000000000001E-5,9.2E-5,1.0225E-4]\n",
       "},\n",
       "\"kind\":\"plot\",\n",
       "\"scales\":[],\n",
       "\"layers\":[{\n",
       "\"mapping\":{\n",
       "},\n",
       "\"stat\":\"identity\",\n",
       "\"position\":\"stack\",\n",
       "\"geom\":\"bar\",\n",
       "\"data\":{\n",
       "}\n",
       "},{\n",
       "\"mapping\":{\n",
       "\"label\":\"y\"\n",
       "},\n",
       "\"stat\":\"identity\",\n",
       "\"alpha\":0.8,\n",
       "\"label_format\":\".2~e\",\n",
       "\"position\":\"identity\",\n",
       "\"geom\":\"label\",\n",
       "\"fill\":\"white\",\n",
       "\"data\":{\n",
       "}\n",
       "}],\n",
       "\"theme\":{\n",
       "\"exponent_format\":\"pow\"\n",
       "}\n",
       "};\n",
       "           var plotContainer = document.getElementById(\"VYYI7Q\");\n",
       "           window.letsPlotCall(function() {{\n",
       "               LetsPlot.buildPlotFromProcessedSpecs(plotSpec, -1, -1, plotContainer);\n",
       "           }});\n",
       "       })();    \n",
       "   </script>"
      ]
     },
     "execution_count": 6,
     "metadata": {},
     "output_type": "execute_result"
    }
   ],
   "source": [
    "p + geomLabel(alpha = 0.8, fill = \"white\", labelFormat = \".2~e\") { label = \"y\" } "
   ]
  }
 ],
 "metadata": {
  "kernelspec": {
   "display_name": "Kotlin",
   "language": "kotlin",
   "name": "kotlin"
  },
  "language_info": {
   "codemirror_mode": "text/x-kotlin",
   "file_extension": ".kt",
   "mimetype": "text/x-kotlin",
   "name": "kotlin",
   "nbconvert_exporter": "",
   "pygments_lexer": "kotlin",
   "version": "1.8.0-dev-3517"
  }
 },
 "nbformat": 4,
 "nbformat_minor": 5
}
